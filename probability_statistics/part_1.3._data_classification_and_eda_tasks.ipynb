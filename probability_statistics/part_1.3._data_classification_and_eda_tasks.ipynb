{
 "cells": [
  {
   "cell_type": "code",
   "execution_count": 17,
   "id": "470627d5",
   "metadata": {},
   "outputs": [
    {
     "data": {
      "text/plain": [
       "'Data classification and EDA tasks.'"
      ]
     },
     "execution_count": 17,
     "metadata": {},
     "output_type": "execute_result"
    }
   ],
   "source": [
    "\"\"\"Data classification and EDA tasks.\"\"\""
   ]
  },
  {
   "cell_type": "markdown",
   "id": "07e37812",
   "metadata": {},
   "source": [
    "# Классификация данных и задачи EDA"
   ]
  },
  {
   "cell_type": "code",
   "execution_count": 18,
   "id": "2c94f5ac",
   "metadata": {},
   "outputs": [],
   "source": [
    "import matplotlib.pyplot as plt\n",
    "import numpy as np\n",
    "import pandas as pd\n",
    "import plotly.express as px\n",
    "import seaborn as sns\n",
    "from scipy.stats import poisson"
   ]
  },
  {
   "cell_type": "markdown",
   "id": "3364125b",
   "metadata": {},
   "source": [
    "## Категориальные и количественные данные"
   ]
  },
  {
   "cell_type": "markdown",
   "id": "67d12a46",
   "metadata": {},
   "source": [
    "### Категориальные данные"
   ]
  },
  {
   "cell_type": "markdown",
   "id": "a8bfb95e",
   "metadata": {},
   "source": [
    "#### Номинальные данные"
   ]
  },
  {
   "cell_type": "code",
   "execution_count": 19,
   "id": "47980434",
   "metadata": {},
   "outputs": [
    {
     "data": {
      "application/vnd.microsoft.datawrangler.viewer.v0+json": {
       "columns": [
        {
         "name": "index",
         "rawType": "int64",
         "type": "integer"
        },
        {
         "name": "model",
         "rawType": "object",
         "type": "string"
        },
        {
         "name": "stock",
         "rawType": "int64",
         "type": "integer"
        }
       ],
       "ref": "7af3ecb2-9fb8-4178-9e5f-ec65f6c29c91",
       "rows": [
        [
         "0",
         "Renault",
         "12"
        ],
        [
         "1",
         "Hyundai",
         "36"
        ],
        [
         "2",
         "KIA",
         "28"
        ],
        [
         "3",
         "Toyota",
         "32"
        ]
       ],
       "shape": {
        "columns": 2,
        "rows": 4
       }
      },
      "text/html": [
       "<div>\n",
       "<style scoped>\n",
       "    .dataframe tbody tr th:only-of-type {\n",
       "        vertical-align: middle;\n",
       "    }\n",
       "\n",
       "    .dataframe tbody tr th {\n",
       "        vertical-align: top;\n",
       "    }\n",
       "\n",
       "    .dataframe thead th {\n",
       "        text-align: right;\n",
       "    }\n",
       "</style>\n",
       "<table border=\"1\" class=\"dataframe\">\n",
       "  <thead>\n",
       "    <tr style=\"text-align: right;\">\n",
       "      <th></th>\n",
       "      <th>model</th>\n",
       "      <th>stock</th>\n",
       "    </tr>\n",
       "  </thead>\n",
       "  <tbody>\n",
       "    <tr>\n",
       "      <th>0</th>\n",
       "      <td>Renault</td>\n",
       "      <td>12</td>\n",
       "    </tr>\n",
       "    <tr>\n",
       "      <th>1</th>\n",
       "      <td>Hyundai</td>\n",
       "      <td>36</td>\n",
       "    </tr>\n",
       "    <tr>\n",
       "      <th>2</th>\n",
       "      <td>KIA</td>\n",
       "      <td>28</td>\n",
       "    </tr>\n",
       "    <tr>\n",
       "      <th>3</th>\n",
       "      <td>Toyota</td>\n",
       "      <td>32</td>\n",
       "    </tr>\n",
       "  </tbody>\n",
       "</table>\n",
       "</div>"
      ],
      "text/plain": [
       "     model  stock\n",
       "0  Renault     12\n",
       "1  Hyundai     36\n",
       "2      KIA     28\n",
       "3   Toyota     32"
      ]
     },
     "execution_count": 19,
     "metadata": {},
     "output_type": "execute_result"
    }
   ],
   "source": [
    "# поместим данные о количестве автомобилей различных марок в датафрейм\n",
    "cars = pd.DataFrame(\n",
    "    {\"model\": [\"Renault\", \"Hyundai\", \"KIA\", \"Toyota\"], \"stock\": [12, 36, 28, 32]}\n",
    ")\n",
    "\n",
    "cars"
   ]
  },
  {
   "cell_type": "code",
   "execution_count": 20,
   "id": "b1e5b9d8",
   "metadata": {},
   "outputs": [
    {
     "data": {
      "image/png": "[encoded data removed]",
      "text/plain": [
       "<Figure size 640x480 with 1 Axes>"
      ]
     },
     "metadata": {},
     "output_type": "display_data"
    }
   ],
   "source": [
    "# выведем данные с помощью столбчатой диаграммы\n",
    "# обратите внимание, что служебную информацию о графике можно убрать с помощью plt.show(),\n",
    "# и с помощью точки с запятой \";\"\n",
    "plt.bar(cars.model, cars.stock);"
   ]
  },
  {
   "cell_type": "markdown",
   "id": "f9f098c9",
   "metadata": {},
   "source": [
    "#### Порядковые данные"
   ]
  },
  {
   "cell_type": "code",
   "execution_count": 24,
   "id": "a1e05aac",
   "metadata": {},
   "outputs": [
    {
     "data": {
      "application/vnd.microsoft.datawrangler.viewer.v0+json": {
       "columns": [
        {
         "name": "index",
         "rawType": "int64",
         "type": "integer"
        },
        {
         "name": "sat_level",
         "rawType": "object",
         "type": "string"
        }
       ],
       "ref": "facc4f1c-9d11-43bc-890d-1a3ab2872ebc",
       "rows": [
        [
         "0",
         "Good"
        ],
        [
         "1",
         "Medium"
        ],
        [
         "2",
         "Good"
        ],
        [
         "3",
         "Medium"
        ],
        [
         "4",
         "Bad"
        ],
        [
         "5",
         "Medium"
        ],
        [
         "6",
         "Good"
        ],
        [
         "7",
         "Medium"
        ],
        [
         "8",
         "Medium"
        ],
        [
         "9",
         "Bad"
        ]
       ],
       "shape": {
        "columns": 1,
        "rows": 10
       }
      },
      "text/html": [
       "<div>\n",
       "<style scoped>\n",
       "    .dataframe tbody tr th:only-of-type {\n",
       "        vertical-align: middle;\n",
       "    }\n",
       "\n",
       "    .dataframe tbody tr th {\n",
       "        vertical-align: top;\n",
       "    }\n",
       "\n",
       "    .dataframe thead th {\n",
       "        text-align: right;\n",
       "    }\n",
       "</style>\n",
       "<table border=\"1\" class=\"dataframe\">\n",
       "  <thead>\n",
       "    <tr style=\"text-align: right;\">\n",
       "      <th></th>\n",
       "      <th>sat_level</th>\n",
       "    </tr>\n",
       "  </thead>\n",
       "  <tbody>\n",
       "    <tr>\n",
       "      <th>0</th>\n",
       "      <td>Good</td>\n",
       "    </tr>\n",
       "    <tr>\n",
       "      <th>1</th>\n",
       "      <td>Medium</td>\n",
       "    </tr>\n",
       "    <tr>\n",
       "      <th>2</th>\n",
       "      <td>Good</td>\n",
       "    </tr>\n",
       "    <tr>\n",
       "      <th>3</th>\n",
       "      <td>Medium</td>\n",
       "    </tr>\n",
       "    <tr>\n",
       "      <th>4</th>\n",
       "      <td>Bad</td>\n",
       "    </tr>\n",
       "    <tr>\n",
       "      <th>5</th>\n",
       "      <td>Medium</td>\n",
       "    </tr>\n",
       "    <tr>\n",
       "      <th>6</th>\n",
       "      <td>Good</td>\n",
       "    </tr>\n",
       "    <tr>\n",
       "      <th>7</th>\n",
       "      <td>Medium</td>\n",
       "    </tr>\n",
       "    <tr>\n",
       "      <th>8</th>\n",
       "      <td>Medium</td>\n",
       "    </tr>\n",
       "    <tr>\n",
       "      <th>9</th>\n",
       "      <td>Bad</td>\n",
       "    </tr>\n",
       "  </tbody>\n",
       "</table>\n",
       "</div>"
      ],
      "text/plain": [
       "  sat_level\n",
       "0      Good\n",
       "1    Medium\n",
       "2      Good\n",
       "3    Medium\n",
       "4       Bad\n",
       "5    Medium\n",
       "6      Good\n",
       "7    Medium\n",
       "8    Medium\n",
       "9       Bad"
      ]
     },
     "execution_count": 24,
     "metadata": {},
     "output_type": "execute_result"
    }
   ],
   "source": [
    "# соберем данные об уровне удовлетворенности десяти человек\n",
    "satisfaction = pd.DataFrame(\n",
    "    {\n",
    "        \"sat_level\": [\n",
    "            \"Good\",\n",
    "            \"Medium\",\n",
    "            \"Good\",\n",
    "            \"Medium\",\n",
    "            \"Bad\",\n",
    "            \"Medium\",\n",
    "            \"Good\",\n",
    "            \"Medium\",\n",
    "            \"Medium\",\n",
    "            \"Bad\",\n",
    "        ]\n",
    "    }\n",
    ")\n",
    "\n",
    "satisfaction"
   ]
  },
  {
   "cell_type": "code",
   "execution_count": 25,
   "id": "b5264b54",
   "metadata": {},
   "outputs": [
    {
     "name": "stdout",
     "output_type": "stream",
     "text": [
      "<class 'pandas.core.frame.DataFrame'>\n",
      "RangeIndex: 10 entries, 0 to 9\n",
      "Data columns (total 1 columns):\n",
      " #   Column     Non-Null Count  Dtype \n",
      "---  ------     --------------  ----- \n",
      " 0   sat_level  10 non-null     object\n",
      "dtypes: object(1)\n",
      "memory usage: 212.0+ bytes\n"
     ]
    }
   ],
   "source": [
    "satisfaction.info()"
   ]
  },
  {
   "cell_type": "code",
   "execution_count": 26,
   "id": "e088ca50",
   "metadata": {},
   "outputs": [
    {
     "data": {
      "image/png": "[encoded data removed]",
      "text/plain": [
       "<Figure size 640x480 with 1 Axes>"
      ]
     },
     "metadata": {},
     "output_type": "display_data"
    }
   ],
   "source": [
    "# переведем данные в тип categorical\n",
    "satisfaction.sat_level = pd.Categorical(\n",
    "    satisfaction.sat_level, categories=[\"Bad\", \"Medium\", \"Good\"], ordered=True\n",
    ")\n",
    "\n",
    "# построим столбчатую диаграмму типа countplot\n",
    "# с количеством оценок в каждой из категорий\n",
    "sns.countplot(x=\"sat_level\", data=satisfaction);"
   ]
  },
  {
   "cell_type": "code",
   "execution_count": 27,
   "id": "8804bbb1",
   "metadata": {},
   "outputs": [
    {
     "name": "stdout",
     "output_type": "stream",
     "text": [
      "<class 'pandas.core.frame.DataFrame'>\n",
      "RangeIndex: 10 entries, 0 to 9\n",
      "Data columns (total 1 columns):\n",
      " #   Column     Non-Null Count  Dtype   \n",
      "---  ------     --------------  -----   \n",
      " 0   sat_level  10 non-null     category\n",
      "dtypes: category(1)\n",
      "memory usage: 274.0 bytes\n"
     ]
    }
   ],
   "source": [
    "satisfaction.info()"
   ]
  },
  {
   "cell_type": "markdown",
   "id": "275cda65",
   "metadata": {},
   "source": [
    "### Количественные данные"
   ]
  },
  {
   "cell_type": "markdown",
   "id": "f6d39002",
   "metadata": {},
   "source": [
    "#### Дискретные данные"
   ]
  },
  {
   "cell_type": "markdown",
   "id": "1df3035e",
   "metadata": {},
   "source": [
    "Распределение Пуассона"
   ]
  },
  {
   "cell_type": "code",
   "execution_count": 28,
   "id": "11633b2a",
   "metadata": {},
   "outputs": [
    {
     "data": {
      "text/plain": [
       "array([6, 5, 6, 4, 3, 5, 1, 2, 2, 3])"
      ]
     },
     "execution_count": 28,
     "metadata": {},
     "output_type": "execute_result"
    }
   ],
   "source": [
    "# смоделируем количество поступающих в колл-центр звонков,\n",
    "# передав матожидание (lam) и желаемое количество экспериментов (size)\n",
    "res = np.random.poisson(lam=3, size=1000)\n",
    "\n",
    "# посмотрим на первые 10 значений\n",
    "res[:10]"
   ]
  },
  {
   "cell_type": "code",
   "execution_count": 34,
   "id": "09d73775",
   "metadata": {},
   "outputs": [
    {
     "data": {
      "text/plain": [
       "(array([ 0,  1,  2,  3,  4,  5,  6,  7,  8,  9, 10, 11]),\n",
       " array([ 50, 140, 228, 230, 153, 112,  50,  20,  11,   3,   2,   1],\n",
       "       dtype=int64))"
      ]
     },
     "execution_count": 34,
     "metadata": {},
     "output_type": "execute_result"
    }
   ],
   "source": [
    "# получим количество звонков в минуту (unique) и соответствующую им частоту (counts)\n",
    "unique, counts = np.unique(res, return_counts=True)\n",
    "unique, counts"
   ]
  },
  {
   "cell_type": "code",
   "execution_count": 35,
   "id": "bfe32623",
   "metadata": {},
   "outputs": [
    {
     "data": {
      "image/png": "[encoded data removed]",
      "text/plain": [
       "<Figure size 1000x600 with 1 Axes>"
      ]
     },
     "metadata": {},
     "output_type": "display_data"
    }
   ],
   "source": [
    "# выведем абсолютные значения распределения количества звонков в минуту\n",
    "plt.figure(figsize=(10, 6))\n",
    "plt.bar([str(x) for x in unique], counts, width=0.95)\n",
    "plt.title(\"Абсолютное распределение количества звонков в минуту\", fontsize=16)\n",
    "plt.xlabel(\"количество звонков в минуту\", fontsize=16)\n",
    "plt.ylabel(\"частота\", fontsize=16);"
   ]
  },
  {
   "cell_type": "code",
   "execution_count": 36,
   "id": "ca4ea69a",
   "metadata": {},
   "outputs": [
    {
     "data": {
      "image/png": "[encoded data removed]",
      "text/plain": [
       "<Figure size 1000x600 with 1 Axes>"
      ]
     },
     "metadata": {},
     "output_type": "display_data"
    }
   ],
   "source": [
    "plt.figure(figsize=(10, 6))\n",
    "# теперь посмотрим на относительное распределение количества звонков в минуту\n",
    "# для этого просто разделим количество звонков в каждом из столбцов на общее число звонков\n",
    "plt.bar([str(x) for x in unique], counts / len(res), width=0.95)\n",
    "plt.title(\"Относительное распределение количества звонков в минуту\", fontsize=16)\n",
    "plt.xlabel(\"количество звонков в минуту\", fontsize=16)\n",
    "plt.ylabel(\"относительная частота\", fontsize=16);"
   ]
  },
  {
   "cell_type": "code",
   "execution_count": 37,
   "id": "cd5cfb2b",
   "metadata": {},
   "outputs": [
    {
     "data": {
      "text/plain": [
       "0.037"
      ]
     },
     "execution_count": 37,
     "metadata": {},
     "output_type": "execute_result"
    }
   ],
   "source": [
    "# рассчитаем вероятность получить более шести звонков в минуту\n",
    "np.round(len(res[res > 6]) / len(res), 3)"
   ]
  },
  {
   "cell_type": "code",
   "execution_count": 38,
   "id": "0b36a20c",
   "metadata": {},
   "outputs": [
    {
     "data": {
      "text/plain": [
       "0.773"
      ]
     },
     "execution_count": 38,
     "metadata": {},
     "output_type": "execute_result"
    }
   ],
   "source": [
    "# рассчитаем вероятность получить от двух до шести звонков в минуту включительно\n",
    "np.round(len(res[res <= 6]) / len(res) - len(res[res < 2]) / len(res), 3)"
   ]
  },
  {
   "cell_type": "code",
   "execution_count": 53,
   "id": "1adec7d2",
   "metadata": {},
   "outputs": [
    {
     "data": {
      "image/png": "[encoded data removed]",
      "text/plain": [
       "<Figure size 1000x600 with 1 Axes>"
      ]
     },
     "metadata": {},
     "output_type": "display_data"
    }
   ],
   "source": [
    "# создадим последовательность целых чисел от 0 до 14\n",
    "xx = np.arange(15)\n",
    "# передадим их в функцию poisson.pmf()\n",
    "# mu в данном случае это матожидание (lambda из формулы)\n",
    "ff = poisson.pmf(xx, mu=3)\n",
    "\n",
    "# построим график теоретического распределения, изменив для наглядности его цвет\n",
    "plt.figure(figsize=(10, 6))\n",
    "plt.bar([str(x) for x in xx], ff, width=0.95, color=\"green\")\n",
    "plt.title(\"Теоретическое распределение количества звонков в минуту\", fontsize=16)\n",
    "plt.xlabel(\"количество звонков в минуту\", fontsize=16)\n",
    "plt.ylabel(\"относительная частота\", fontsize=16);"
   ]
  },
  {
   "cell_type": "code",
   "execution_count": 47,
   "id": "f8638e20",
   "metadata": {},
   "outputs": [
    {
     "data": {
      "text/plain": [
       "0.199"
      ]
     },
     "execution_count": 47,
     "metadata": {},
     "output_type": "execute_result"
    }
   ],
   "source": [
    "# рассчитаем вероятность получения нуля звонков или одного звонка в час\n",
    "poisson.cdf(1, 3).round(3)"
   ]
  },
  {
   "cell_type": "code",
   "execution_count": 54,
   "id": "3f0f4d12",
   "metadata": {},
   "outputs": [
    {
     "data": {
      "text/plain": [
       "0.034"
      ]
     },
     "execution_count": 54,
     "metadata": {},
     "output_type": "execute_result"
    }
   ],
   "source": [
    "# найдем площадь столбцов до шести звонков в минуту включительно\n",
    "# и вычтем результат из единицы\n",
    "np.round(1 - poisson.cdf(6, 3), 3)"
   ]
  },
  {
   "cell_type": "code",
   "execution_count": 55,
   "id": "bc563adb",
   "metadata": {},
   "outputs": [
    {
     "data": {
      "text/plain": [
       "0.767"
      ]
     },
     "execution_count": 55,
     "metadata": {},
     "output_type": "execute_result"
    }
   ],
   "source": [
    "# для выполнения второго задания вычтем площадь столбцов ноль и один\n",
    "# из площади столбцов до шестого вaключительно\n",
    "np.round(poisson.cdf(6, 3) - poisson.cdf(1, 3), 3)"
   ]
  },
  {
   "cell_type": "markdown",
   "id": "8fb7100e",
   "metadata": {},
   "source": [
    "#### Непрерывные данные"
   ]
  },
  {
   "cell_type": "markdown",
   "id": "7da8b54a",
   "metadata": {},
   "source": [
    "См. пример [нормального распределения](https://www.dmitrymakarov.ru/python/random-11-03/#6-normalnoe-raspredelenie) непрерывных данных в занятии по модулю random."
   ]
  },
  {
   "cell_type": "markdown",
   "id": "57e9a579",
   "metadata": {},
   "source": [
    "## Перекрестные данные, временные ряды и панельные данные"
   ]
  },
  {
   "cell_type": "markdown",
   "id": "8cad1c33",
   "metadata": {},
   "source": [
    "### Перекрестные данные"
   ]
  },
  {
   "cell_type": "code",
   "execution_count": 56,
   "id": "49154857",
   "metadata": {},
   "outputs": [
    {
     "data": {
      "application/vnd.microsoft.datawrangler.viewer.v0+json": {
       "columns": [
        {
         "name": "index",
         "rawType": "int64",
         "type": "integer"
        },
        {
         "name": "countries",
         "rawType": "object",
         "type": "string"
        },
        {
         "name": "healthcare",
         "rawType": "int64",
         "type": "integer"
        },
        {
         "name": "education",
         "rawType": "int64",
         "type": "integer"
        }
       ],
       "ref": "557a5213-aa36-43e3-917b-f270b475a434",
       "rows": [
        [
         "0",
         "France",
         "4492",
         "9210"
        ],
        [
         "1",
         "Belgium",
         "5428",
         "10869"
        ],
        [
         "2",
         "Spain",
         "3616",
         "6498"
        ]
       ],
       "shape": {
        "columns": 3,
        "rows": 3
       }
      },
      "text/html": [
       "<div>\n",
       "<style scoped>\n",
       "    .dataframe tbody tr th:only-of-type {\n",
       "        vertical-align: middle;\n",
       "    }\n",
       "\n",
       "    .dataframe tbody tr th {\n",
       "        vertical-align: top;\n",
       "    }\n",
       "\n",
       "    .dataframe thead th {\n",
       "        text-align: right;\n",
       "    }\n",
       "</style>\n",
       "<table border=\"1\" class=\"dataframe\">\n",
       "  <thead>\n",
       "    <tr style=\"text-align: right;\">\n",
       "      <th></th>\n",
       "      <th>countries</th>\n",
       "      <th>healthcare</th>\n",
       "      <th>education</th>\n",
       "    </tr>\n",
       "  </thead>\n",
       "  <tbody>\n",
       "    <tr>\n",
       "      <th>0</th>\n",
       "      <td>France</td>\n",
       "      <td>4492</td>\n",
       "      <td>9210</td>\n",
       "    </tr>\n",
       "    <tr>\n",
       "      <th>1</th>\n",
       "      <td>Belgium</td>\n",
       "      <td>5428</td>\n",
       "      <td>10869</td>\n",
       "    </tr>\n",
       "    <tr>\n",
       "      <th>2</th>\n",
       "      <td>Spain</td>\n",
       "      <td>3616</td>\n",
       "      <td>6498</td>\n",
       "    </tr>\n",
       "  </tbody>\n",
       "</table>\n",
       "</div>"
      ],
      "text/plain": [
       "  countries  healthcare  education\n",
       "0    France        4492       9210\n",
       "1   Belgium        5428      10869\n",
       "2     Spain        3616       6498"
      ]
     },
     "execution_count": 56,
     "metadata": {},
     "output_type": "execute_result"
    }
   ],
   "source": [
    "# создадим датафрейм с данными по Франции, Бельгии и Испании\n",
    "csect = pd.DataFrame(\n",
    "    {\n",
    "        \"countries\": [\"France\", \"Belgium\", \"Spain\"],\n",
    "        \"healthcare\": [4492, 5428, 3616],\n",
    "        \"education\": [9210, 10869, 6498],\n",
    "    }\n",
    ")\n",
    "\n",
    "# посмотрим на результат\n",
    "csect"
   ]
  },
  {
   "cell_type": "code",
   "execution_count": 68,
   "id": "e51a5ebe",
   "metadata": {},
   "outputs": [
    {
     "data": {
      "image/png": "[encoded data removed]",
      "text/plain": [
       "<Figure size 1200x500 with 2 Axes>"
      ]
     },
     "metadata": {},
     "output_type": "display_data"
    }
   ],
   "source": [
    "# зададим размер фигуры для обоих графиков\n",
    "plt.figure(figsize=(12, 5))\n",
    "\n",
    "# используем функцию plt.subplot() для создания первого графика (index = 1)\n",
    "# передаваемые параметры: nrows, ncols, index\n",
    "plt.subplot(121)\n",
    "# построим столбчатую диаграмму для здравоохранения\n",
    "plt.bar(csect.countries, csect.healthcare)\n",
    "plt.title(\"Здравоохранение\", fontsize=14)\n",
    "plt.xlabel(\"Страны\", fontsize=12)\n",
    "plt.ylabel(\"Доллары США на душу населения\", fontsize=12)\n",
    "\n",
    "# создадим второй график (index = 2)\n",
    "# параметры можно передать одним числом\n",
    "plt.subplot(122)\n",
    "# построим столбчатую диаграмму для образования\n",
    "plt.bar(csect.countries, csect.education, color=\"orange\")\n",
    "plt.title(\"Образование\", fontsize=14)\n",
    "plt.xlabel(\"Страны\", fontsize=12)\n",
    "plt.ylabel(\"Евро на одного учащегося\", fontsize=12)\n",
    "\n",
    "# отрегулируем пространство между графиками\n",
    "plt.subplots_adjust(wspace=0.4)\n",
    "\n",
    "# зададим общий график\n",
    "plt.suptitle(\"Расходы на здравоохранение и образование в 2019 году \", fontsize=16)\n",
    "\n",
    "# выведем результат\n",
    "plt.show()"
   ]
  },
  {
   "cell_type": "markdown",
   "id": "70243ed7",
   "metadata": {},
   "source": [
    "### Временные ряды"
   ]
  },
  {
   "cell_type": "code",
   "execution_count": 69,
   "id": "ff72d026",
   "metadata": {},
   "outputs": [
    {
     "data": {
      "application/vnd.microsoft.datawrangler.viewer.v0+json": {
       "columns": [
        {
         "name": "year",
         "rawType": "datetime64[ns]",
         "type": "datetime"
        },
        {
         "name": "healthcare",
         "rawType": "int64",
         "type": "integer"
        }
       ],
       "ref": "f69ffb6c-472f-4b08-b318-5877046ddd6f",
       "rows": [
        [
         "2010-01-01 00:00:00",
         "4598"
        ],
        [
         "2011-01-01 00:00:00",
         "4939"
        ],
        [
         "2012-01-01 00:00:00",
         "4651"
        ],
        [
         "2013-01-01 00:00:00",
         "4902"
        ],
        [
         "2014-01-01 00:00:00",
         "4999"
        ],
        [
         "2015-01-01 00:00:00",
         "4208"
        ],
        [
         "2016-01-01 00:00:00",
         "4268"
        ],
        [
         "2017-01-01 00:00:00",
         "4425"
        ],
        [
         "2018-01-01 00:00:00",
         "4690"
        ],
        [
         "2019-01-01 00:00:00",
         "4492"
        ]
       ],
       "shape": {
        "columns": 1,
        "rows": 10
       }
      },
      "text/html": [
       "<div>\n",
       "<style scoped>\n",
       "    .dataframe tbody tr th:only-of-type {\n",
       "        vertical-align: middle;\n",
       "    }\n",
       "\n",
       "    .dataframe tbody tr th {\n",
       "        vertical-align: top;\n",
       "    }\n",
       "\n",
       "    .dataframe thead th {\n",
       "        text-align: right;\n",
       "    }\n",
       "</style>\n",
       "<table border=\"1\" class=\"dataframe\">\n",
       "  <thead>\n",
       "    <tr style=\"text-align: right;\">\n",
       "      <th></th>\n",
       "      <th>healthcare</th>\n",
       "    </tr>\n",
       "    <tr>\n",
       "      <th>year</th>\n",
       "      <th></th>\n",
       "    </tr>\n",
       "  </thead>\n",
       "  <tbody>\n",
       "    <tr>\n",
       "      <th>2010-01-01</th>\n",
       "      <td>4598</td>\n",
       "    </tr>\n",
       "    <tr>\n",
       "      <th>2011-01-01</th>\n",
       "      <td>4939</td>\n",
       "    </tr>\n",
       "    <tr>\n",
       "      <th>2012-01-01</th>\n",
       "      <td>4651</td>\n",
       "    </tr>\n",
       "    <tr>\n",
       "      <th>2013-01-01</th>\n",
       "      <td>4902</td>\n",
       "    </tr>\n",
       "    <tr>\n",
       "      <th>2014-01-01</th>\n",
       "      <td>4999</td>\n",
       "    </tr>\n",
       "    <tr>\n",
       "      <th>2015-01-01</th>\n",
       "      <td>4208</td>\n",
       "    </tr>\n",
       "    <tr>\n",
       "      <th>2016-01-01</th>\n",
       "      <td>4268</td>\n",
       "    </tr>\n",
       "    <tr>\n",
       "      <th>2017-01-01</th>\n",
       "      <td>4425</td>\n",
       "    </tr>\n",
       "    <tr>\n",
       "      <th>2018-01-01</th>\n",
       "      <td>4690</td>\n",
       "    </tr>\n",
       "    <tr>\n",
       "      <th>2019-01-01</th>\n",
       "      <td>4492</td>\n",
       "    </tr>\n",
       "  </tbody>\n",
       "</table>\n",
       "</div>"
      ],
      "text/plain": [
       "            healthcare\n",
       "year                  \n",
       "2010-01-01        4598\n",
       "2011-01-01        4939\n",
       "2012-01-01        4651\n",
       "2013-01-01        4902\n",
       "2014-01-01        4999\n",
       "2015-01-01        4208\n",
       "2016-01-01        4268\n",
       "2017-01-01        4425\n",
       "2018-01-01        4690\n",
       "2019-01-01        4492"
      ]
     },
     "execution_count": 69,
     "metadata": {},
     "output_type": "execute_result"
    }
   ],
   "source": [
    "# создадим временной ряд расходов на здравоохранение во Франции с 2010 по 2019 годы\n",
    "tseries = pd.DataFrame(\n",
    "    {\n",
    "        \"year\": [2010, 2011, 2012, 2013, 2014, 2015, 2016, 2017, 2018, 2019],\n",
    "        \"healthcare\": [4598, 4939, 4651, 4902, 4999, 4208, 4268, 4425, 4690, 4492],\n",
    "    }\n",
    ")\n",
    "\n",
    "# превратим год в объект datetime\n",
    "tseries.year = pd.to_datetime(tseries.year, format=\"%Y\")\n",
    "# и сделаем этот столбец индексом\n",
    "tseries.set_index(\"year\", drop=True, inplace=True)\n",
    "\n",
    "# посмотрим на результат\n",
    "tseries"
   ]
  },
  {
   "cell_type": "code",
   "execution_count": 70,
   "id": "8f8eed24",
   "metadata": {},
   "outputs": [
    {
     "data": {
      "image/png": "[encoded data removed]",
      "text/plain": [
       "<Figure size 1200x500 with 1 Axes>"
      ]
     },
     "metadata": {},
     "output_type": "display_data"
    }
   ],
   "source": [
    "# выведем эти данные с помощью линейного графика\n",
    "plt.figure(figsize=(12, 5))\n",
    "# дополнительно укажем цвет, толщину линии и вид маркера\n",
    "plt.plot(tseries, color=\"green\", linewidth=2, marker=\"o\")\n",
    "\n",
    "# добавим подписи к осям и заголовок\n",
    "plt.xlabel(\"Годы\", fontsize=14)\n",
    "plt.ylabel(\"Доллары США\", fontsize=14)\n",
    "plt.title(\n",
    "    \"Расходы на здравоохранение на душу населения во Франции с 2010 по 2019 год\",\n",
    "    fontsize=14,\n",
    ")\n",
    "\n",
    "# выведем результат\n",
    "plt.show()"
   ]
  },
  {
   "cell_type": "markdown",
   "id": "2254e596",
   "metadata": {},
   "source": [
    "### Панельные данные"
   ]
  },
  {
   "cell_type": "markdown",
   "id": "a4667d47",
   "metadata": {},
   "source": [
    "Создание датафрейма с панельными данными с помощью иерархического индекса"
   ]
  },
  {
   "cell_type": "code",
   "execution_count": 71,
   "id": "14a94992",
   "metadata": {},
   "outputs": [],
   "source": [
    "# вначале создадим датафрейм с данными расходов на душу населения\n",
    "# на здравоохранение трех стран с 2015 по 2019 годы\n",
    "# первые пять цифр относятся к Франции, вторые пять - к Бельгии, третьи пять - к Испании\n",
    "pdata = pd.DataFrame(\n",
    "    {\n",
    "        \"healthcare\": [\n",
    "            4208,\n",
    "            4268,\n",
    "            4425,\n",
    "            4690,\n",
    "            4492,\n",
    "            4290,\n",
    "            4323,\n",
    "            4618,\n",
    "            4913,\n",
    "            4960,\n",
    "            2349,\n",
    "            2377,\n",
    "            2523,\n",
    "            2736,\n",
    "            2542,\n",
    "        ]\n",
    "    }\n",
    ")"
   ]
  },
  {
   "cell_type": "code",
   "execution_count": 72,
   "id": "26e06956",
   "metadata": {},
   "outputs": [
    {
     "data": {
      "application/vnd.microsoft.datawrangler.viewer.v0+json": {
       "columns": [
        {
         "name": "('country', 'year')",
         "rawType": "object",
         "type": "unknown"
        },
        {
         "name": "healthcare",
         "rawType": "int64",
         "type": "integer"
        }
       ],
       "ref": "6ba1c17c-dafd-43f2-a49e-2d0531dd1294",
       "rows": [
        [
         "('France', '2015')",
         "4208"
        ],
        [
         "('France', '2016')",
         "4268"
        ],
        [
         "('France', '2017')",
         "4425"
        ],
        [
         "('France', '2018')",
         "4690"
        ],
        [
         "('France', '2019')",
         "4492"
        ],
        [
         "('Belgium', '2015')",
         "4290"
        ],
        [
         "('Belgium', '2016')",
         "4323"
        ],
        [
         "('Belgium', '2017')",
         "4618"
        ],
        [
         "('Belgium', '2018')",
         "4913"
        ],
        [
         "('Belgium', '2019')",
         "4960"
        ],
        [
         "('Spain', '2015')",
         "2349"
        ],
        [
         "('Spain', '2016')",
         "2377"
        ],
        [
         "('Spain', '2017')",
         "2523"
        ],
        [
         "('Spain', '2018')",
         "2736"
        ],
        [
         "('Spain', '2019')",
         "2542"
        ]
       ],
       "shape": {
        "columns": 1,
        "rows": 15
       }
      },
      "text/html": [
       "<div>\n",
       "<style scoped>\n",
       "    .dataframe tbody tr th:only-of-type {\n",
       "        vertical-align: middle;\n",
       "    }\n",
       "\n",
       "    .dataframe tbody tr th {\n",
       "        vertical-align: top;\n",
       "    }\n",
       "\n",
       "    .dataframe thead th {\n",
       "        text-align: right;\n",
       "    }\n",
       "</style>\n",
       "<table border=\"1\" class=\"dataframe\">\n",
       "  <thead>\n",
       "    <tr style=\"text-align: right;\">\n",
       "      <th></th>\n",
       "      <th></th>\n",
       "      <th>healthcare</th>\n",
       "    </tr>\n",
       "    <tr>\n",
       "      <th>country</th>\n",
       "      <th>year</th>\n",
       "      <th></th>\n",
       "    </tr>\n",
       "  </thead>\n",
       "  <tbody>\n",
       "    <tr>\n",
       "      <th rowspan=\"5\" valign=\"top\">France</th>\n",
       "      <th>2015</th>\n",
       "      <td>4208</td>\n",
       "    </tr>\n",
       "    <tr>\n",
       "      <th>2016</th>\n",
       "      <td>4268</td>\n",
       "    </tr>\n",
       "    <tr>\n",
       "      <th>2017</th>\n",
       "      <td>4425</td>\n",
       "    </tr>\n",
       "    <tr>\n",
       "      <th>2018</th>\n",
       "      <td>4690</td>\n",
       "    </tr>\n",
       "    <tr>\n",
       "      <th>2019</th>\n",
       "      <td>4492</td>\n",
       "    </tr>\n",
       "    <tr>\n",
       "      <th rowspan=\"5\" valign=\"top\">Belgium</th>\n",
       "      <th>2015</th>\n",
       "      <td>4290</td>\n",
       "    </tr>\n",
       "    <tr>\n",
       "      <th>2016</th>\n",
       "      <td>4323</td>\n",
       "    </tr>\n",
       "    <tr>\n",
       "      <th>2017</th>\n",
       "      <td>4618</td>\n",
       "    </tr>\n",
       "    <tr>\n",
       "      <th>2018</th>\n",
       "      <td>4913</td>\n",
       "    </tr>\n",
       "    <tr>\n",
       "      <th>2019</th>\n",
       "      <td>4960</td>\n",
       "    </tr>\n",
       "    <tr>\n",
       "      <th rowspan=\"5\" valign=\"top\">Spain</th>\n",
       "      <th>2015</th>\n",
       "      <td>2349</td>\n",
       "    </tr>\n",
       "    <tr>\n",
       "      <th>2016</th>\n",
       "      <td>2377</td>\n",
       "    </tr>\n",
       "    <tr>\n",
       "      <th>2017</th>\n",
       "      <td>2523</td>\n",
       "    </tr>\n",
       "    <tr>\n",
       "      <th>2018</th>\n",
       "      <td>2736</td>\n",
       "    </tr>\n",
       "    <tr>\n",
       "      <th>2019</th>\n",
       "      <td>2542</td>\n",
       "    </tr>\n",
       "  </tbody>\n",
       "</table>\n",
       "</div>"
      ],
      "text/plain": [
       "              healthcare\n",
       "country year            \n",
       "France  2015        4208\n",
       "        2016        4268\n",
       "        2017        4425\n",
       "        2018        4690\n",
       "        2019        4492\n",
       "Belgium 2015        4290\n",
       "        2016        4323\n",
       "        2017        4618\n",
       "        2018        4913\n",
       "        2019        4960\n",
       "Spain   2015        2349\n",
       "        2016        2377\n",
       "        2017        2523\n",
       "        2018        2736\n",
       "        2019        2542"
      ]
     },
     "execution_count": 72,
     "metadata": {},
     "output_type": "execute_result"
    }
   ],
   "source": [
    "# создадим кортежи для иерархического индекса\n",
    "rows = [\n",
    "    (\"France\", \"2015\"),\n",
    "    (\"France\", \"2016\"),\n",
    "    (\"France\", \"2017\"),\n",
    "    (\"France\", \"2018\"),\n",
    "    (\"France\", \"2019\"),\n",
    "    (\"Belgium\", \"2015\"),\n",
    "    (\"Belgium\", \"2016\"),\n",
    "    (\"Belgium\", \"2017\"),\n",
    "    (\"Belgium\", \"2018\"),\n",
    "    (\"Belgium\", \"2019\"),\n",
    "    (\"Spain\", \"2015\"),\n",
    "    (\"Spain\", \"2016\"),\n",
    "    (\"Spain\", \"2017\"),\n",
    "    (\"Spain\", \"2018\"),\n",
    "    (\"Spain\", \"2019\"),\n",
    "]\n",
    "\n",
    "# передадим кортежи в функцию pd.MultiIndex.from_tuples(),\n",
    "# указав названия уровней индекса\n",
    "custom_multindex = pd.MultiIndex.from_tuples(rows, names=[\"country\", \"year\"])\n",
    "\n",
    "# сделаем custom_multindex индексом датафрейма с панельными данными\n",
    "pdata.index = custom_multindex\n",
    "\n",
    "# посмотрим на результат\n",
    "pdata"
   ]
  },
  {
   "cell_type": "markdown",
   "id": "f1595d82",
   "metadata": {},
   "source": [
    "Визуализация панельных данных"
   ]
  },
  {
   "cell_type": "code",
   "execution_count": 75,
   "id": "a1665435",
   "metadata": {},
   "outputs": [
    {
     "data": {
      "application/vnd.microsoft.datawrangler.viewer.v0+json": {
       "columns": [
        {
         "name": "year",
         "rawType": "object",
         "type": "string"
        },
        {
         "name": "Belgium",
         "rawType": "int64",
         "type": "integer"
        },
        {
         "name": "France",
         "rawType": "int64",
         "type": "integer"
        },
        {
         "name": "Spain",
         "rawType": "int64",
         "type": "integer"
        }
       ],
       "ref": "7fd5331d-5693-4cb2-9693-9f8752700c0b",
       "rows": [
        [
         "2015",
         "4290",
         "4208",
         "2349"
        ],
        [
         "2016",
         "4323",
         "4268",
         "2377"
        ],
        [
         "2017",
         "4618",
         "4425",
         "2523"
        ],
        [
         "2018",
         "4913",
         "4690",
         "2736"
        ],
        [
         "2019",
         "4960",
         "4492",
         "2542"
        ]
       ],
       "shape": {
        "columns": 3,
        "rows": 5
       }
      },
      "text/html": [
       "<div>\n",
       "<style scoped>\n",
       "    .dataframe tbody tr th:only-of-type {\n",
       "        vertical-align: middle;\n",
       "    }\n",
       "\n",
       "    .dataframe tbody tr th {\n",
       "        vertical-align: top;\n",
       "    }\n",
       "\n",
       "    .dataframe thead th {\n",
       "        text-align: right;\n",
       "    }\n",
       "</style>\n",
       "<table border=\"1\" class=\"dataframe\">\n",
       "  <thead>\n",
       "    <tr style=\"text-align: right;\">\n",
       "      <th>country</th>\n",
       "      <th>Belgium</th>\n",
       "      <th>France</th>\n",
       "      <th>Spain</th>\n",
       "    </tr>\n",
       "    <tr>\n",
       "      <th>year</th>\n",
       "      <th></th>\n",
       "      <th></th>\n",
       "      <th></th>\n",
       "    </tr>\n",
       "  </thead>\n",
       "  <tbody>\n",
       "    <tr>\n",
       "      <th>2015</th>\n",
       "      <td>4290</td>\n",
       "      <td>4208</td>\n",
       "      <td>2349</td>\n",
       "    </tr>\n",
       "    <tr>\n",
       "      <th>2016</th>\n",
       "      <td>4323</td>\n",
       "      <td>4268</td>\n",
       "      <td>2377</td>\n",
       "    </tr>\n",
       "    <tr>\n",
       "      <th>2017</th>\n",
       "      <td>4618</td>\n",
       "      <td>4425</td>\n",
       "      <td>2523</td>\n",
       "    </tr>\n",
       "    <tr>\n",
       "      <th>2018</th>\n",
       "      <td>4913</td>\n",
       "      <td>4690</td>\n",
       "      <td>2736</td>\n",
       "    </tr>\n",
       "    <tr>\n",
       "      <th>2019</th>\n",
       "      <td>4960</td>\n",
       "      <td>4492</td>\n",
       "      <td>2542</td>\n",
       "    </tr>\n",
       "  </tbody>\n",
       "</table>\n",
       "</div>"
      ],
      "text/plain": [
       "country  Belgium  France  Spain\n",
       "year                           \n",
       "2015        4290    4208   2349\n",
       "2016        4323    4268   2377\n",
       "2017        4618    4425   2523\n",
       "2018        4913    4690   2736\n",
       "2019        4960    4492   2542"
      ]
     },
     "execution_count": 75,
     "metadata": {},
     "output_type": "execute_result"
    }
   ],
   "source": [
    "# сделаем данные по странам (index level = 0) отдельными столбцами\n",
    "pdata_unstacked = pdata.healthcare.unstack(level=0)\n",
    "\n",
    "# метод .unstack() выстроит столбцы в алфавитном порядке\n",
    "pdata_unstacked"
   ]
  },
  {
   "cell_type": "code",
   "execution_count": 76,
   "id": "0c6eca18",
   "metadata": {},
   "outputs": [
    {
     "data": {
      "image/png": "[encoded data removed]",
      "text/plain": [
       "<Figure size 1000x500 with 1 Axes>"
      ]
     },
     "metadata": {},
     "output_type": "display_data"
    }
   ],
   "source": [
    "# зададим размер графика\n",
    "plt.figure(figsize=(10, 5))\n",
    "\n",
    "# построим три кривые\n",
    "pdata_unstacked.Belgium.plot(linewidth=2, marker=\"o\", label=\"Бельгия\")\n",
    "pdata_unstacked.France.plot(linewidth=2, marker=\"o\", label=\"Франция\")\n",
    "pdata_unstacked.Spain.plot(linewidth=2, marker=\"o\", label=\"Испания\")\n",
    "\n",
    "# дополним подписями к осям, заголовком и легендой\n",
    "plt.xlabel(\"Годы\", fontsize=14)\n",
    "plt.ylabel(\"Доллары США\", fontsize=14)\n",
    "plt.title(\n",
    "    \"Расходы на здравоохранение на душу населения в Бельгии, Франции и Испании\",\n",
    "    fontsize=14,\n",
    ")\n",
    "plt.legend(loc=\"center left\", prop={\"size\": 14})\n",
    "\n",
    "plt.show()"
   ]
  },
  {
   "cell_type": "code",
   "execution_count": 109,
   "id": "a885272d",
   "metadata": {},
   "outputs": [
    {
     "data": {
      "text/plain": [
       "array([[<Axes: title={'center': 'Бельгия'}, ylabel='доллары США'>,\n",
       "        <Axes: title={'center': 'Франция'}, ylabel='доллары США'>,\n",
       "        <Axes: title={'center': 'Испания'}, ylabel='доллары США'>]],\n",
       "      dtype=object)"
      ]
     },
     "execution_count": 109,
     "metadata": {},
     "output_type": "execute_result"
    },
    {
     "data": {
      "image/png": "[encoded data removed]",
      "text/plain": [
       "<Figure size 1300x500 with 3 Axes>"
      ]
     },
     "metadata": {},
     "output_type": "display_data"
    }
   ],
   "source": [
    "pdata_unstacked.plot(\n",
    "    kind=\"bar\",\n",
    "    subplots=True,\n",
    "    layout=(1, 3),\n",
    "    rot=0,\n",
    "    figsize=(13, 5),\n",
    "    sharey=True,\n",
    "    fontsize=11,\n",
    "    width=0.8,\n",
    "    xlabel=\"\",\n",
    "    ylabel=\"доллары США\",\n",
    "    legend=False,  # Изменено с None на False\n",
    "    title=[\"Бельгия\", \"Франция\", \"Испания\"],\n",
    ")"
   ]
  },
  {
   "cell_type": "markdown",
   "id": "da1c9cb7",
   "metadata": {},
   "source": [
    "## Одномерный и многомерный анализ"
   ]
  },
  {
   "cell_type": "markdown",
   "id": "5ec56c91",
   "metadata": {},
   "source": [
    "#### Многомерный временной ряд"
   ]
  },
  {
   "cell_type": "code",
   "execution_count": 110,
   "id": "546e63f7",
   "metadata": {},
   "outputs": [
    {
     "data": {
      "application/vnd.microsoft.datawrangler.viewer.v0+json": {
       "columns": [
        {
         "name": "year",
         "rawType": "datetime64[ns]",
         "type": "datetime"
        },
        {
         "name": "healthcare",
         "rawType": "int64",
         "type": "integer"
        },
        {
         "name": "education",
         "rawType": "float64",
         "type": "float"
        }
       ],
       "ref": "539743bb-8b40-4700-8e00-35ef7ea80949",
       "rows": [
        [
         "2010-01-01 00:00:00",
         "4598",
         "5.69"
        ],
        [
         "2011-01-01 00:00:00",
         "4939",
         "5.52"
        ],
        [
         "2012-01-01 00:00:00",
         "4651",
         "5.46"
        ],
        [
         "2013-01-01 00:00:00",
         "4902",
         "5.5"
        ],
        [
         "2014-01-01 00:00:00",
         "4999",
         "5.51"
        ],
        [
         "2015-01-01 00:00:00",
         "4208",
         "5.46"
        ],
        [
         "2016-01-01 00:00:00",
         "4268",
         "5.48"
        ],
        [
         "2017-01-01 00:00:00",
         "4425",
         "5.45"
        ],
        [
         "2018-01-01 00:00:00",
         "4690",
         "5.41"
        ],
        [
         "2019-01-01 00:00:00",
         "4492",
         "6.62"
        ]
       ],
       "shape": {
        "columns": 2,
        "rows": 10
       }
      },
      "text/html": [
       "<div>\n",
       "<style scoped>\n",
       "    .dataframe tbody tr th:only-of-type {\n",
       "        vertical-align: middle;\n",
       "    }\n",
       "\n",
       "    .dataframe tbody tr th {\n",
       "        vertical-align: top;\n",
       "    }\n",
       "\n",
       "    .dataframe thead th {\n",
       "        text-align: right;\n",
       "    }\n",
       "</style>\n",
       "<table border=\"1\" class=\"dataframe\">\n",
       "  <thead>\n",
       "    <tr style=\"text-align: right;\">\n",
       "      <th></th>\n",
       "      <th>healthcare</th>\n",
       "      <th>education</th>\n",
       "    </tr>\n",
       "    <tr>\n",
       "      <th>year</th>\n",
       "      <th></th>\n",
       "      <th></th>\n",
       "    </tr>\n",
       "  </thead>\n",
       "  <tbody>\n",
       "    <tr>\n",
       "      <th>2010-01-01</th>\n",
       "      <td>4598</td>\n",
       "      <td>5.69</td>\n",
       "    </tr>\n",
       "    <tr>\n",
       "      <th>2011-01-01</th>\n",
       "      <td>4939</td>\n",
       "      <td>5.52</td>\n",
       "    </tr>\n",
       "    <tr>\n",
       "      <th>2012-01-01</th>\n",
       "      <td>4651</td>\n",
       "      <td>5.46</td>\n",
       "    </tr>\n",
       "    <tr>\n",
       "      <th>2013-01-01</th>\n",
       "      <td>4902</td>\n",
       "      <td>5.50</td>\n",
       "    </tr>\n",
       "    <tr>\n",
       "      <th>2014-01-01</th>\n",
       "      <td>4999</td>\n",
       "      <td>5.51</td>\n",
       "    </tr>\n",
       "    <tr>\n",
       "      <th>2015-01-01</th>\n",
       "      <td>4208</td>\n",
       "      <td>5.46</td>\n",
       "    </tr>\n",
       "    <tr>\n",
       "      <th>2016-01-01</th>\n",
       "      <td>4268</td>\n",
       "      <td>5.48</td>\n",
       "    </tr>\n",
       "    <tr>\n",
       "      <th>2017-01-01</th>\n",
       "      <td>4425</td>\n",
       "      <td>5.45</td>\n",
       "    </tr>\n",
       "    <tr>\n",
       "      <th>2018-01-01</th>\n",
       "      <td>4690</td>\n",
       "      <td>5.41</td>\n",
       "    </tr>\n",
       "    <tr>\n",
       "      <th>2019-01-01</th>\n",
       "      <td>4492</td>\n",
       "      <td>6.62</td>\n",
       "    </tr>\n",
       "  </tbody>\n",
       "</table>\n",
       "</div>"
      ],
      "text/plain": [
       "            healthcare  education\n",
       "year                             \n",
       "2010-01-01        4598       5.69\n",
       "2011-01-01        4939       5.52\n",
       "2012-01-01        4651       5.46\n",
       "2013-01-01        4902       5.50\n",
       "2014-01-01        4999       5.51\n",
       "2015-01-01        4208       5.46\n",
       "2016-01-01        4268       5.48\n",
       "2017-01-01        4425       5.45\n",
       "2018-01-01        4690       5.41\n",
       "2019-01-01        4492       6.62"
      ]
     },
     "execution_count": 110,
     "metadata": {},
     "output_type": "execute_result"
    }
   ],
   "source": [
    "# создадим временной ряд расходов на здравоохранение во Франции на душу населения\n",
    "# и приведем процент ВВП, потраченный на образование, за аналогичный период\n",
    "tseries_mult = pd.DataFrame(\n",
    "    {\n",
    "        \"year\": [2010, 2011, 2012, 2013, 2014, 2015, 2016, 2017, 2018, 2019],\n",
    "        \"healthcare\": [4598, 4939, 4651, 4902, 4999, 4208, 4268, 4425, 4690, 4492],\n",
    "        \"education\": [5.69, 5.52, 5.46, 5.50, 5.51, 5.46, 5.48, 5.45, 5.41, 6.62],\n",
    "    }\n",
    ")\n",
    "\n",
    "# превратим год в объект datetime\n",
    "tseries_mult.year = pd.to_datetime(tseries_mult.year, format=\"%Y\")\n",
    "# и сделаем этот столбец индексом\n",
    "tseries_mult.set_index(\"year\", drop=True, inplace=True)\n",
    "\n",
    "# посмотрим на результат\n",
    "tseries_mult"
   ]
  },
  {
   "cell_type": "markdown",
   "id": "246ba96b",
   "metadata": {},
   "source": [
    "#### Многомерные панельные данные"
   ]
  },
  {
   "cell_type": "code",
   "execution_count": 111,
   "id": "2ecccde3",
   "metadata": {},
   "outputs": [
    {
     "data": {
      "application/vnd.microsoft.datawrangler.viewer.v0+json": {
       "columns": [
        {
         "name": "('country', 'year')",
         "rawType": "object",
         "type": "unknown"
        },
        {
         "name": "healthcare, per capita",
         "rawType": "int64",
         "type": "integer"
        },
        {
         "name": "education, % of GDP",
         "rawType": "float64",
         "type": "float"
        }
       ],
       "ref": "9fb97d8a-f49f-47e6-91cc-9c668cdbb0dd",
       "rows": [
        [
         "('France', '2015')",
         "4208",
         "5.46"
        ],
        [
         "('France', '2016')",
         "4268",
         "5.48"
        ],
        [
         "('France', '2017')",
         "4425",
         "5.45"
        ],
        [
         "('France', '2018')",
         "4690",
         "5.41"
        ],
        [
         "('France', '2019')",
         "4492",
         "6.62"
        ],
        [
         "('Belgium', '2015')",
         "4290",
         "6.45"
        ],
        [
         "('Belgium', '2016')",
         "4323",
         "6.46"
        ],
        [
         "('Belgium', '2017')",
         "4618",
         "6.43"
        ],
        [
         "('Belgium', '2018')",
         "4913",
         "6.38"
        ],
        [
         "('Belgium', '2019')",
         "4960",
         "6.4"
        ],
        [
         "('Spain', '2015')",
         "2349",
         "4.29"
        ],
        [
         "('Spain', '2016')",
         "2377",
         "4.23"
        ],
        [
         "('Spain', '2017')",
         "2523",
         "4.21"
        ],
        [
         "('Spain', '2018')",
         "2736",
         "4.18"
        ],
        [
         "('Spain', '2019')",
         "2542",
         "4.26"
        ]
       ],
       "shape": {
        "columns": 2,
        "rows": 15
       }
      },
      "text/html": [
       "<div>\n",
       "<style scoped>\n",
       "    .dataframe tbody tr th:only-of-type {\n",
       "        vertical-align: middle;\n",
       "    }\n",
       "\n",
       "    .dataframe tbody tr th {\n",
       "        vertical-align: top;\n",
       "    }\n",
       "\n",
       "    .dataframe thead th {\n",
       "        text-align: right;\n",
       "    }\n",
       "</style>\n",
       "<table border=\"1\" class=\"dataframe\">\n",
       "  <thead>\n",
       "    <tr style=\"text-align: right;\">\n",
       "      <th></th>\n",
       "      <th></th>\n",
       "      <th>healthcare, per capita</th>\n",
       "      <th>education, % of GDP</th>\n",
       "    </tr>\n",
       "    <tr>\n",
       "      <th>country</th>\n",
       "      <th>year</th>\n",
       "      <th></th>\n",
       "      <th></th>\n",
       "    </tr>\n",
       "  </thead>\n",
       "  <tbody>\n",
       "    <tr>\n",
       "      <th rowspan=\"5\" valign=\"top\">France</th>\n",
       "      <th>2015</th>\n",
       "      <td>4208</td>\n",
       "      <td>5.46</td>\n",
       "    </tr>\n",
       "    <tr>\n",
       "      <th>2016</th>\n",
       "      <td>4268</td>\n",
       "      <td>5.48</td>\n",
       "    </tr>\n",
       "    <tr>\n",
       "      <th>2017</th>\n",
       "      <td>4425</td>\n",
       "      <td>5.45</td>\n",
       "    </tr>\n",
       "    <tr>\n",
       "      <th>2018</th>\n",
       "      <td>4690</td>\n",
       "      <td>5.41</td>\n",
       "    </tr>\n",
       "    <tr>\n",
       "      <th>2019</th>\n",
       "      <td>4492</td>\n",
       "      <td>6.62</td>\n",
       "    </tr>\n",
       "    <tr>\n",
       "      <th rowspan=\"5\" valign=\"top\">Belgium</th>\n",
       "      <th>2015</th>\n",
       "      <td>4290</td>\n",
       "      <td>6.45</td>\n",
       "    </tr>\n",
       "    <tr>\n",
       "      <th>2016</th>\n",
       "      <td>4323</td>\n",
       "      <td>6.46</td>\n",
       "    </tr>\n",
       "    <tr>\n",
       "      <th>2017</th>\n",
       "      <td>4618</td>\n",
       "      <td>6.43</td>\n",
       "    </tr>\n",
       "    <tr>\n",
       "      <th>2018</th>\n",
       "      <td>4913</td>\n",
       "      <td>6.38</td>\n",
       "    </tr>\n",
       "    <tr>\n",
       "      <th>2019</th>\n",
       "      <td>4960</td>\n",
       "      <td>6.40</td>\n",
       "    </tr>\n",
       "    <tr>\n",
       "      <th rowspan=\"5\" valign=\"top\">Spain</th>\n",
       "      <th>2015</th>\n",
       "      <td>2349</td>\n",
       "      <td>4.29</td>\n",
       "    </tr>\n",
       "    <tr>\n",
       "      <th>2016</th>\n",
       "      <td>2377</td>\n",
       "      <td>4.23</td>\n",
       "    </tr>\n",
       "    <tr>\n",
       "      <th>2017</th>\n",
       "      <td>2523</td>\n",
       "      <td>4.21</td>\n",
       "    </tr>\n",
       "    <tr>\n",
       "      <th>2018</th>\n",
       "      <td>2736</td>\n",
       "      <td>4.18</td>\n",
       "    </tr>\n",
       "    <tr>\n",
       "      <th>2019</th>\n",
       "      <td>2542</td>\n",
       "      <td>4.26</td>\n",
       "    </tr>\n",
       "  </tbody>\n",
       "</table>\n",
       "</div>"
      ],
      "text/plain": [
       "              healthcare, per capita  education, % of GDP\n",
       "country year                                             \n",
       "France  2015                    4208                 5.46\n",
       "        2016                    4268                 5.48\n",
       "        2017                    4425                 5.45\n",
       "        2018                    4690                 5.41\n",
       "        2019                    4492                 6.62\n",
       "Belgium 2015                    4290                 6.45\n",
       "        2016                    4323                 6.46\n",
       "        2017                    4618                 6.43\n",
       "        2018                    4913                 6.38\n",
       "        2019                    4960                 6.40\n",
       "Spain   2015                    2349                 4.29\n",
       "        2016                    2377                 4.23\n",
       "        2017                    2523                 4.21\n",
       "        2018                    2736                 4.18\n",
       "        2019                    2542                 4.26"
      ]
     },
     "execution_count": 111,
     "metadata": {},
     "output_type": "execute_result"
    }
   ],
   "source": [
    "# вначале создадим датафрейм с данными расходов на здравоохранение и образование\n",
    "pdata_mult = pd.DataFrame(\n",
    "    {\n",
    "        \"healthcare, per capita\": [\n",
    "            4208,\n",
    "            4268,\n",
    "            4425,\n",
    "            4690,\n",
    "            4492,\n",
    "            4290,\n",
    "            4323,\n",
    "            4618,\n",
    "            4913,\n",
    "            4960,\n",
    "            2349,\n",
    "            2377,\n",
    "            2523,\n",
    "            2736,\n",
    "            2542,\n",
    "        ],\n",
    "        \"education, % of GDP\": [\n",
    "            5.46,\n",
    "            5.48,\n",
    "            5.45,\n",
    "            5.41,\n",
    "            6.62,\n",
    "            6.45,\n",
    "            6.46,\n",
    "            6.43,\n",
    "            6.38,\n",
    "            6.40,\n",
    "            4.29,\n",
    "            4.23,\n",
    "            4.21,\n",
    "            4.18,\n",
    "            4.26,\n",
    "        ],\n",
    "    }\n",
    ")\n",
    "\n",
    "# создадим кортежи для иерархического индекса\n",
    "rows = [\n",
    "    (\"France\", \"2015\"),\n",
    "    (\"France\", \"2016\"),\n",
    "    (\"France\", \"2017\"),\n",
    "    (\"France\", \"2018\"),\n",
    "    (\"France\", \"2019\"),\n",
    "    (\"Belgium\", \"2015\"),\n",
    "    (\"Belgium\", \"2016\"),\n",
    "    (\"Belgium\", \"2017\"),\n",
    "    (\"Belgium\", \"2018\"),\n",
    "    (\"Belgium\", \"2019\"),\n",
    "    (\"Spain\", \"2015\"),\n",
    "    (\"Spain\", \"2016\"),\n",
    "    (\"Spain\", \"2017\"),\n",
    "    (\"Spain\", \"2018\"),\n",
    "    (\"Spain\", \"2019\"),\n",
    "]\n",
    "\n",
    "# передадим кортежи в функцию pd.MultiIndex.from_tuples(),\n",
    "# указав названия уровней индекса\n",
    "custom_multindex = pd.MultiIndex.from_tuples(rows, names=[\"country\", \"year\"])\n",
    "\n",
    "# сделаем custom_multindex индексом датафрейма с панельными данными\n",
    "pdata_mult.index = custom_multindex\n",
    "\n",
    "# посмотрим на результат\n",
    "pdata_mult"
   ]
  },
  {
   "cell_type": "markdown",
   "id": "d6c9c3d9",
   "metadata": {},
   "source": [
    "## Библиотеки"
   ]
  },
  {
   "cell_type": "markdown",
   "id": "e97cd0bd",
   "metadata": {},
   "source": [
    "### Matplotlib"
   ]
  },
  {
   "cell_type": "markdown",
   "id": "23c17304",
   "metadata": {},
   "source": [
    "#### Стиль MATLAB"
   ]
  },
  {
   "cell_type": "code",
   "execution_count": 112,
   "id": "637a7c21",
   "metadata": {},
   "outputs": [
    {
     "data": {
      "image/png": "[encoded data removed]",
      "text/plain": [
       "<Figure size 640x480 with 1 Axes>"
      ]
     },
     "metadata": {},
     "output_type": "display_data"
    }
   ],
   "source": [
    "# зададим последовательность от -5 до 5 с шагом 0,1\n",
    "xxx = np.arange(-5, 5, 0.1)\n",
    "\n",
    "# построим график синусоиды\n",
    "plt.plot(xxx, np.sin(xxx))\n",
    "\n",
    "# зададим заголовок, подписи к осям и сетку\n",
    "plt.title(\"sin(x)\")\n",
    "plt.xlabel(\"x\")\n",
    "plt.ylabel(\"y\")\n",
    "plt.grid();"
   ]
  },
  {
   "cell_type": "markdown",
   "id": "fc832ec7",
   "metadata": {},
   "source": [
    "#### Подход ООП"
   ]
  },
  {
   "cell_type": "code",
   "execution_count": 113,
   "id": "b0e57269",
   "metadata": {},
   "outputs": [
    {
     "name": "stdout",
     "output_type": "stream",
     "text": [
      "<class 'matplotlib.figure.Figure'>\n"
     ]
    },
    {
     "data": {
      "text/plain": [
       "<Figure size 640x480 with 0 Axes>"
      ]
     },
     "metadata": {},
     "output_type": "display_data"
    }
   ],
   "source": [
    "# создадим объект класса figure\n",
    "fig = plt.figure()\n",
    "\n",
    "# и посмотрим на его тип\n",
    "print(type(fig))"
   ]
  },
  {
   "cell_type": "code",
   "execution_count": 114,
   "id": "ff41f4df",
   "metadata": {},
   "outputs": [
    {
     "name": "stdout",
     "output_type": "stream",
     "text": [
      "<class 'matplotlib.axes._axes.Axes'>\n"
     ]
    }
   ],
   "source": [
    "# применим метод .add_subplot() для создания подграфика (объекта ax)\n",
    "# напомню, что первые два параметра задают количество строк и столбцов,\n",
    "# третий параметр - это индекс (порядковый номер подграфика)\n",
    "ax = fig.add_subplot(2, 1, 1)\n",
    "\n",
    "# посмотрим на тип этого объекта\n",
    "print(type(ax))"
   ]
  },
  {
   "cell_type": "code",
   "execution_count": 115,
   "id": "14f7b69c",
   "metadata": {},
   "outputs": [
    {
     "data": {
      "image/png": "[encoded data removed]",
      "text/plain": [
       "<Figure size 800x600 with 2 Axes>"
      ]
     },
     "metadata": {},
     "output_type": "display_data"
    }
   ],
   "source": [
    "# вначале создаем объект figure, указываем размер объекта\n",
    "fig = plt.figure(figsize=(8, 6))\n",
    "# и его заголовок с помощью метода .suptitle()\n",
    "fig.suptitle(\"Figure object\")\n",
    "# можно и plt.suptitle('Figure object')\n",
    "\n",
    "# внутри него создаем первый объекта класса axes\n",
    "ax1 = fig.add_subplot(2, 2, 1)\n",
    "# к этому объекту можно применять различные методы\n",
    "ax1.set_title(\"Axes object 1\")\n",
    "\n",
    "# и второй (напомню, параметры можно передать без запятых)\n",
    "ax2 = fig.add_subplot(2, 2, 2)\n",
    "ax2.set_title(\"Axes object 2\")\n",
    "\n",
    "# выведем результат\n",
    "plt.show()"
   ]
  },
  {
   "cell_type": "markdown",
   "id": "22d41142",
   "metadata": {},
   "source": [
    "# Pandas"
   ]
  },
  {
   "cell_type": "code",
   "execution_count": 116,
   "id": "b1b0c1b2",
   "metadata": {},
   "outputs": [
    {
     "data": {
      "text/plain": [
       "matplotlib.axes._axes.Axes"
      ]
     },
     "execution_count": 116,
     "metadata": {},
     "output_type": "execute_result"
    },
    {
     "data": {
      "image/png": "[encoded data removed]",
      "text/plain": [
       "<Figure size 640x480 with 1 Axes>"
      ]
     },
     "metadata": {},
     "output_type": "display_data"
    }
   ],
   "source": [
    "# \"под капотом\" для построения графиков\n",
    "# библиотека Pandas использует объекты библиотеки matplotilb\n",
    "# в этом несложно убедиться с помощью функции type()\n",
    "type(tseries.plot())"
   ]
  },
  {
   "cell_type": "markdown",
   "id": "32b4465b",
   "metadata": {},
   "source": [
    "### Seaborn"
   ]
  },
  {
   "cell_type": "code",
   "execution_count": 117,
   "id": "487ee9c7",
   "metadata": {},
   "outputs": [],
   "source": [
    "# см. примеры выше"
   ]
  },
  {
   "cell_type": "markdown",
   "id": "9f5b1b9a",
   "metadata": {},
   "source": [
    "### Plotly Express"
   ]
  },
  {
   "cell_type": "code",
   "execution_count": 119,
   "id": "f90756c3",
   "metadata": {},
   "outputs": [
    {
     "data": {
      "application/vnd.microsoft.datawrangler.viewer.v0+json": {
       "columns": [
        {
         "name": "index",
         "rawType": "int64",
         "type": "integer"
        },
        {
         "name": "countries",
         "rawType": "object",
         "type": "string"
        },
        {
         "name": "healthcare",
         "rawType": "int64",
         "type": "integer"
        },
        {
         "name": "education",
         "rawType": "int64",
         "type": "integer"
        }
       ],
       "ref": "c530bec1-5070-4e88-b3c4-8cb045f8747b",
       "rows": [
        [
         "0",
         "France",
         "4492",
         "9210"
        ],
        [
         "1",
         "Belgium",
         "5428",
         "10869"
        ],
        [
         "2",
         "Spain",
         "3616",
         "6498"
        ]
       ],
       "shape": {
        "columns": 3,
        "rows": 3
       }
      },
      "text/html": [
       "<div>\n",
       "<style scoped>\n",
       "    .dataframe tbody tr th:only-of-type {\n",
       "        vertical-align: middle;\n",
       "    }\n",
       "\n",
       "    .dataframe tbody tr th {\n",
       "        vertical-align: top;\n",
       "    }\n",
       "\n",
       "    .dataframe thead th {\n",
       "        text-align: right;\n",
       "    }\n",
       "</style>\n",
       "<table border=\"1\" class=\"dataframe\">\n",
       "  <thead>\n",
       "    <tr style=\"text-align: right;\">\n",
       "      <th></th>\n",
       "      <th>countries</th>\n",
       "      <th>healthcare</th>\n",
       "      <th>education</th>\n",
       "    </tr>\n",
       "  </thead>\n",
       "  <tbody>\n",
       "    <tr>\n",
       "      <th>0</th>\n",
       "      <td>France</td>\n",
       "      <td>4492</td>\n",
       "      <td>9210</td>\n",
       "    </tr>\n",
       "    <tr>\n",
       "      <th>1</th>\n",
       "      <td>Belgium</td>\n",
       "      <td>5428</td>\n",
       "      <td>10869</td>\n",
       "    </tr>\n",
       "    <tr>\n",
       "      <th>2</th>\n",
       "      <td>Spain</td>\n",
       "      <td>3616</td>\n",
       "      <td>6498</td>\n",
       "    </tr>\n",
       "  </tbody>\n",
       "</table>\n",
       "</div>"
      ],
      "text/plain": [
       "  countries  healthcare  education\n",
       "0    France        4492       9210\n",
       "1   Belgium        5428      10869\n",
       "2     Spain        3616       6498"
      ]
     },
     "execution_count": 119,
     "metadata": {},
     "output_type": "execute_result"
    }
   ],
   "source": [
    "csect"
   ]
  },
  {
   "cell_type": "code",
   "execution_count": null,
   "id": "003ef719",
   "metadata": {},
   "outputs": [
    {
     "data": {
      "application/vnd.plotly.v1+json": {
       "config": {
        "plotlyServerURL": "https://plot.ly"
       },
       "data": [
        {
         "alignmentgroup": "True",
         "hovertemplate": "variable=healthcare<br>countries=%{x}<br>value=%{y}<extra></extra>",
         "legendgroup": "healthcare",
         "marker": {
          "color": "#636efa",
          "pattern": {
           "shape": ""
          }
         },
         "name": "healthcare",
         "offsetgroup": "healthcare",
         "orientation": "v",
         "showlegend": true,
         "textposition": "auto",
         "type": "bar",
         "x": [
          "France",
          "Belgium",
          "Spain"
         ],
         "xaxis": "x",
         "y": [
          4492,
          5428,
          3616
         ],
         "yaxis": "y"
        },
        {
         "alignmentgroup": "True",
         "hovertemplate": "variable=education<br>countries=%{x}<br>value=%{y}<extra></extra>",
         "legendgroup": "education",
         "marker": {
          "color": "#EF553B",
          "pattern": {
           "shape": ""
          }
         },
         "name": "education",
         "offsetgroup": "education",
         "orientation": "v",
         "showlegend": true,
         "textposition": "auto",
         "type": "bar",
         "x": [
          "France",
          "Belgium",
          "Spain"
         ],
         "xaxis": "x",
         "y": [
          9210,
          10869,
          6498
         ],
         "yaxis": "y"
        }
       ],
       "layout": {
        "barmode": "group",
        "legend": {
         "title": {
          "text": "variable"
         },
         "tracegroupgap": 0
        },
        "margin": {
         "t": 60
        },
        "template": {
         "data": {
          "bar": [
           {
            "error_x": {
             "color": "#2a3f5f"
            },
            "error_y": {
             "color": "#2a3f5f"
            },
            "marker": {
             "line": {
              "color": "#E5ECF6",
              "width": 0.5
             },
             "pattern": {
              "fillmode": "overlay",
              "size": 10,
              "solidity": 0.2
             }
            },
            "type": "bar"
           }
          ],
          "barpolar": [
           {
            "marker": {
             "line": {
              "color": "#E5ECF6",
              "width": 0.5
             },
             "pattern": {
              "fillmode": "overlay",
              "size": 10,
              "solidity": 0.2
             }
            },
            "type": "barpolar"
           }
          ],
          "carpet": [
           {
            "aaxis": {
             "endlinecolor": "#2a3f5f",
             "gridcolor": "white",
             "linecolor": "white",
             "minorgridcolor": "white",
             "startlinecolor": "#2a3f5f"
            },
            "baxis": {
             "endlinecolor": "#2a3f5f",
             "gridcolor": "white",
             "linecolor": "white",
             "minorgridcolor": "white",
             "startlinecolor": "#2a3f5f"
            },
            "type": "carpet"
           }
          ],
          "choropleth": [
           {
            "colorbar": {
             "outlinewidth": 0,
             "ticks": ""
            },
            "type": "choropleth"
           }
          ],
          "contour": [
           {
            "colorbar": {
             "outlinewidth": 0,
             "ticks": ""
            },
            "colorscale": [
             [
              0,
              "#0d0887"
             ],
             [
              0.1111111111111111,
              "#46039f"
             ],
             [
              0.2222222222222222,
              "#7201a8"
             ],
             [
              0.3333333333333333,
              "#9c179e"
             ],
             [
              0.4444444444444444,
              "#bd3786"
             ],
             [
              0.5555555555555556,
              "#d8576b"
             ],
             [
              0.6666666666666666,
              "#ed7953"
             ],
             [
              0.7777777777777778,
              "#fb9f3a"
             ],
             [
              0.8888888888888888,
              "#fdca26"
             ],
             [
              1,
              "#f0f921"
             ]
            ],
            "type": "contour"
           }
          ],
          "contourcarpet": [
           {
            "colorbar": {
             "outlinewidth": 0,
             "ticks": ""
            },
            "type": "contourcarpet"
           }
          ],
          "heatmap": [
           {
            "colorbar": {
             "outlinewidth": 0,
             "ticks": ""
            },
            "colorscale": [
             [
              0,
              "#0d0887"
             ],
             [
              0.1111111111111111,
              "#46039f"
             ],
             [
              0.2222222222222222,
              "#7201a8"
             ],
             [
              0.3333333333333333,
              "#9c179e"
             ],
             [
              0.4444444444444444,
              "#bd3786"
             ],
             [
              0.5555555555555556,
              "#d8576b"
             ],
             [
              0.6666666666666666,
              "#ed7953"
             ],
             [
              0.7777777777777778,
              "#fb9f3a"
             ],
             [
              0.8888888888888888,
              "#fdca26"
             ],
             [
              1,
              "#f0f921"
             ]
            ],
            "type": "heatmap"
           }
          ],
          "heatmapgl": [
           {
            "colorbar": {
             "outlinewidth": 0,
             "ticks": ""
            },
            "colorscale": [
             [
              0,
              "#0d0887"
             ],
             [
              0.1111111111111111,
              "#46039f"
             ],
             [
              0.2222222222222222,
              "#7201a8"
             ],
             [
              0.3333333333333333,
              "#9c179e"
             ],
             [
              0.4444444444444444,
              "#bd3786"
             ],
             [
              0.5555555555555556,
              "#d8576b"
             ],
             [
              0.6666666666666666,
              "#ed7953"
             ],
             [
              0.7777777777777778,
              "#fb9f3a"
             ],
             [
              0.8888888888888888,
              "#fdca26"
             ],
             [
              1,
              "#f0f921"
             ]
            ],
            "type": "heatmapgl"
           }
          ],
          "histogram": [
           {
            "marker": {
             "pattern": {
              "fillmode": "overlay",
              "size": 10,
              "solidity": 0.2
             }
            },
            "type": "histogram"
           }
          ],
          "histogram2d": [
           {
            "colorbar": {
             "outlinewidth": 0,
             "ticks": ""
            },
            "colorscale": [
             [
              0,
              "#0d0887"
             ],
             [
              0.1111111111111111,
              "#46039f"
             ],
             [
              0.2222222222222222,
              "#7201a8"
             ],
             [
              0.3333333333333333,
              "#9c179e"
             ],
             [
              0.4444444444444444,
              "#bd3786"
             ],
             [
              0.5555555555555556,
              "#d8576b"
             ],
             [
              0.6666666666666666,
              "#ed7953"
             ],
             [
              0.7777777777777778,
              "#fb9f3a"
             ],
             [
              0.8888888888888888,
              "#fdca26"
             ],
             [
              1,
              "#f0f921"
             ]
            ],
            "type": "histogram2d"
           }
          ],
          "histogram2dcontour": [
           {
            "colorbar": {
             "outlinewidth": 0,
             "ticks": ""
            },
            "colorscale": [
             [
              0,
              "#0d0887"
             ],
             [
              0.1111111111111111,
              "#46039f"
             ],
             [
              0.2222222222222222,
              "#7201a8"
             ],
             [
              0.3333333333333333,
              "#9c179e"
             ],
             [
              0.4444444444444444,
              "#bd3786"
             ],
             [
              0.5555555555555556,
              "#d8576b"
             ],
             [
              0.6666666666666666,
              "#ed7953"
             ],
             [
              0.7777777777777778,
              "#fb9f3a"
             ],
             [
              0.8888888888888888,
              "#fdca26"
             ],
             [
              1,
              "#f0f921"
             ]
            ],
            "type": "histogram2dcontour"
           }
          ],
          "mesh3d": [
           {
            "colorbar": {
             "outlinewidth": 0,
             "ticks": ""
            },
            "type": "mesh3d"
           }
          ],
          "parcoords": [
           {
            "line": {
             "colorbar": {
              "outlinewidth": 0,
              "ticks": ""
             }
            },
            "type": "parcoords"
           }
          ],
          "pie": [
           {
            "automargin": true,
            "type": "pie"
           }
          ],
          "scatter": [
           {
            "fillpattern": {
             "fillmode": "overlay",
             "size": 10,
             "solidity": 0.2
            },
            "type": "scatter"
           }
          ],
          "scatter3d": [
           {
            "line": {
             "colorbar": {
              "outlinewidth": 0,
              "ticks": ""
             }
            },
            "marker": {
             "colorbar": {
              "outlinewidth": 0,
              "ticks": ""
             }
            },
            "type": "scatter3d"
           }
          ],
          "scattercarpet": [
           {
            "marker": {
             "colorbar": {
              "outlinewidth": 0,
              "ticks": ""
             }
            },
            "type": "scattercarpet"
           }
          ],
          "scattergeo": [
           {
            "marker": {
             "colorbar": {
              "outlinewidth": 0,
              "ticks": ""
             }
            },
            "type": "scattergeo"
           }
          ],
          "scattergl": [
           {
            "marker": {
             "colorbar": {
              "outlinewidth": 0,
              "ticks": ""
             }
            },
            "type": "scattergl"
           }
          ],
          "scattermapbox": [
           {
            "marker": {
             "colorbar": {
              "outlinewidth": 0,
              "ticks": ""
             }
            },
            "type": "scattermapbox"
           }
          ],
          "scatterpolar": [
           {
            "marker": {
             "colorbar": {
              "outlinewidth": 0,
              "ticks": ""
             }
            },
            "type": "scatterpolar"
           }
          ],
          "scatterpolargl": [
           {
            "marker": {
             "colorbar": {
              "outlinewidth": 0,
              "ticks": ""
             }
            },
            "type": "scatterpolargl"
           }
          ],
          "scatterternary": [
           {
            "marker": {
             "colorbar": {
              "outlinewidth": 0,
              "ticks": ""
             }
            },
            "type": "scatterternary"
           }
          ],
          "surface": [
           {
            "colorbar": {
             "outlinewidth": 0,
             "ticks": ""
            },
            "colorscale": [
             [
              0,
              "#0d0887"
             ],
             [
              0.1111111111111111,
              "#46039f"
             ],
             [
              0.2222222222222222,
              "#7201a8"
             ],
             [
              0.3333333333333333,
              "#9c179e"
             ],
             [
              0.4444444444444444,
              "#bd3786"
             ],
             [
              0.5555555555555556,
              "#d8576b"
             ],
             [
              0.6666666666666666,
              "#ed7953"
             ],
             [
              0.7777777777777778,
              "#fb9f3a"
             ],
             [
              0.8888888888888888,
              "#fdca26"
             ],
             [
              1,
              "#f0f921"
             ]
            ],
            "type": "surface"
           }
          ],
          "table": [
           {
            "cells": {
             "fill": {
              "color": "#EBF0F8"
             },
             "line": {
              "color": "white"
             }
            },
            "header": {
             "fill": {
              "color": "#C8D4E3"
             },
             "line": {
              "color": "white"
             }
            },
            "type": "table"
           }
          ]
         },
         "layout": {
          "annotationdefaults": {
           "arrowcolor": "#2a3f5f",
           "arrowhead": 0,
           "arrowwidth": 1
          },
          "autotypenumbers": "strict",
          "coloraxis": {
           "colorbar": {
            "outlinewidth": 0,
            "ticks": ""
           }
          },
          "colorscale": {
           "diverging": [
            [
             0,
             "#8e0152"
            ],
            [
             0.1,
             "#c51b7d"
            ],
            [
             0.2,
             "#de77ae"
            ],
            [
             0.3,
             "#f1b6da"
            ],
            [
             0.4,
             "#fde0ef"
            ],
            [
             0.5,
             "#f7f7f7"
            ],
            [
             0.6,
             "#e6f5d0"
            ],
            [
             0.7,
             "#b8e186"
            ],
            [
             0.8,
             "#7fbc41"
            ],
            [
             0.9,
             "#4d9221"
            ],
            [
             1,
             "#276419"
            ]
           ],
           "sequential": [
            [
             0,
             "#0d0887"
            ],
            [
             0.1111111111111111,
             "#46039f"
            ],
            [
             0.2222222222222222,
             "#7201a8"
            ],
            [
             0.3333333333333333,
             "#9c179e"
            ],
            [
             0.4444444444444444,
             "#bd3786"
            ],
            [
             0.5555555555555556,
             "#d8576b"
            ],
            [
             0.6666666666666666,
             "#ed7953"
            ],
            [
             0.7777777777777778,
             "#fb9f3a"
            ],
            [
             0.8888888888888888,
             "#fdca26"
            ],
            [
             1,
             "#f0f921"
            ]
           ],
           "sequentialminus": [
            [
             0,
             "#0d0887"
            ],
            [
             0.1111111111111111,
             "#46039f"
            ],
            [
             0.2222222222222222,
             "#7201a8"
            ],
            [
             0.3333333333333333,
             "#9c179e"
            ],
            [
             0.4444444444444444,
             "#bd3786"
            ],
            [
             0.5555555555555556,
             "#d8576b"
            ],
            [
             0.6666666666666666,
             "#ed7953"
            ],
            [
             0.7777777777777778,
             "#fb9f3a"
            ],
            [
             0.8888888888888888,
             "#fdca26"
            ],
            [
             1,
             "#f0f921"
            ]
           ]
          },
          "colorway": [
           "#636efa",
           "#EF553B",
           "#00cc96",
           "#ab63fa",
           "#FFA15A",
           "#19d3f3",
           "#FF6692",
           "#B6E880",
           "#FF97FF",
           "#FECB52"
          ],
          "font": {
           "color": "#2a3f5f"
          },
          "geo": {
           "bgcolor": "white",
           "lakecolor": "white",
           "landcolor": "#E5ECF6",
           "showlakes": true,
           "showland": true,
           "subunitcolor": "white"
          },
          "hoverlabel": {
           "align": "left"
          },
          "hovermode": "closest",
          "mapbox": {
           "style": "light"
          },
          "paper_bgcolor": "white",
          "plot_bgcolor": "#E5ECF6",
          "polar": {
           "angularaxis": {
            "gridcolor": "white",
            "linecolor": "white",
            "ticks": ""
           },
           "bgcolor": "#E5ECF6",
           "radialaxis": {
            "gridcolor": "white",
            "linecolor": "white",
            "ticks": ""
           }
          },
          "scene": {
           "xaxis": {
            "backgroundcolor": "#E5ECF6",
            "gridcolor": "white",
            "gridwidth": 2,
            "linecolor": "white",
            "showbackground": true,
            "ticks": "",
            "zerolinecolor": "white"
           },
           "yaxis": {
            "backgroundcolor": "#E5ECF6",
            "gridcolor": "white",
            "gridwidth": 2,
            "linecolor": "white",
            "showbackground": true,
            "ticks": "",
            "zerolinecolor": "white"
           },
           "zaxis": {
            "backgroundcolor": "#E5ECF6",
            "gridcolor": "white",
            "gridwidth": 2,
            "linecolor": "white",
            "showbackground": true,
            "ticks": "",
            "zerolinecolor": "white"
           }
          },
          "shapedefaults": {
           "line": {
            "color": "#2a3f5f"
           }
          },
          "ternary": {
           "aaxis": {
            "gridcolor": "white",
            "linecolor": "white",
            "ticks": ""
           },
           "baxis": {
            "gridcolor": "white",
            "linecolor": "white",
            "ticks": ""
           },
           "bgcolor": "#E5ECF6",
           "caxis": {
            "gridcolor": "white",
            "linecolor": "white",
            "ticks": ""
           }
          },
          "title": {
           "x": 0.05
          },
          "xaxis": {
           "automargin": true,
           "gridcolor": "white",
           "linecolor": "white",
           "ticks": "",
           "title": {
            "standoff": 15
           },
           "zerolinecolor": "white",
           "zerolinewidth": 2
          },
          "yaxis": {
           "automargin": true,
           "gridcolor": "white",
           "linecolor": "white",
           "ticks": "",
           "title": {
            "standoff": 15
           },
           "zerolinecolor": "white",
           "zerolinewidth": 2
          }
         }
        },
        "xaxis": {
         "anchor": "y",
         "domain": [
          0,
          1
         ],
         "title": {
          "text": "countries"
         }
        },
        "yaxis": {
         "anchor": "x",
         "domain": [
          0,
          1
         ],
         "title": {
          "text": "value"
         }
        }
       }
      }
     },
     "metadata": {},
     "output_type": "display_data"
    }
   ],
   "source": [
    "# по оси x разместим страны, по оси y - признаки\n",
    "# параметр barmode = 'group' указывает,\n",
    "# что столбцы образования и здравоохранения нужно разместить рядом,\n",
    "# а не внутри одного столбца (stacked)\n",
    "px.bar(csect, x=\"countries\", y=[\"healthcare\", \"education\"], barmode=\"group\")"
   ]
  },
  {
   "cell_type": "code",
   "execution_count": null,
   "id": "0728cb7d",
   "metadata": {},
   "outputs": [],
   "source": []
  }
 ],
 "metadata": {
  "kernelspec": {
   "display_name": "base",
   "language": "python",
   "name": "python3"
  },
  "language_info": {
   "codemirror_mode": {
    "name": "ipython",
    "version": 3
   },
   "file_extension": ".py",
   "mimetype": "text/x-python",
   "name": "python",
   "nbconvert_exporter": "python",
   "pygments_lexer": "ipython3",
   "version": "3.12.7"
  }
 },
 "nbformat": 4,
 "nbformat_minor": 5
}
