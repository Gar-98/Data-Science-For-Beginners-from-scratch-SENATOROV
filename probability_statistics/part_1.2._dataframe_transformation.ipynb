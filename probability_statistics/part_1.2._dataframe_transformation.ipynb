{
 "cells": [
  {
   "cell_type": "code",
   "execution_count": null,
   "metadata": {},
   "outputs": [],
   "source": [
    "\"\"\"Dataframe transformation.\"\"\""
   ]
  },
  {
   "cell_type": "markdown",
   "metadata": {
    "id": "MGSxj2_odmMe"
   },
   "source": [
    "# Преобразование датафрейма"
   ]
  },
  {
   "cell_type": "code",
   "execution_count": null,
   "metadata": {
    "id": "R05H8j-Udib2"
   },
   "outputs": [],
   "source": [
    "import numpy as np\n",
    "import pandas as pd\n",
    "\n",
    "# pylint: disable=too-many-lines"
   ]
  },
  {
   "cell_type": "markdown",
   "metadata": {
    "id": "ESsJ8jhidyId"
   },
   "source": [
    "## Изменение датафрейма"
   ]
  },
  {
   "cell_type": "markdown",
   "metadata": {
    "id": "vnb8_hnaHs2Z"
   },
   "source": [
    "Вернемся к датафрейму из предыдущего занятия"
   ]
  },
  {
   "cell_type": "code",
   "execution_count": null,
   "metadata": {
    "colab": {
     "base_uri": "https://localhost:8080/",
     "height": 269
    },
    "id": "BNYEzZFsGu_r",
    "outputId": "e86c0805-4b6a-40d6-91eb-cace3d3a58d1"
   },
   "outputs": [],
   "source": [
    "# создадим несколько списков и массивов Numpy с информацией о семи странах мира\n",
    "country = np.array(\n",
    "    [\n",
    "        \"China\",\n",
    "        \"Vietnam\",\n",
    "        \"United Kingdom\",\n",
    "        \"Russia\",\n",
    "        \"Argentina\",\n",
    "        \"Bolivia\",\n",
    "        \"South Africa\",\n",
    "    ]\n",
    ")\n",
    "capital = np.array(\n",
    "    [\"Beijing\", \"Hanoi\", \"London\", \"Moscow\", \"Buenos Aires\", \"Sucre\", \"Pretoria\"]\n",
    ")\n",
    "population = np.array([1400, 97, 67, 144, 45, 12, 59])  # млн. человек\n",
    "area = np.array([9.6, 0.3, 0.2, 17.1, 2.8, 1.1, 1.2])  # млн. кв. км.\n",
    "sea = np.array(\n",
    "    [1] * 5 + [0, 1]\n",
    ")  # выход к морю (в этом списке его нет только у Боливии)\n",
    "\n",
    "# кроме того создадим список кодов стран, которые станут индексом датафрейма\n",
    "custom_index = np.array([\"CN\", \"VN\", \"GB\", \"RU\", \"AR\", \"BO\", \"ZA\"])\n",
    "\n",
    "# создадим пустой словарь\n",
    "countries_dict = {}\n",
    "\n",
    "# превратим эти списки в значения словаря,\n",
    "# одновременно снабдив необходимыми ключами\n",
    "countries_dict[\"country\"] = country\n",
    "countries_dict[\"capital\"] = capital\n",
    "countries_dict[\"population\"] = population\n",
    "countries_dict[\"area\"] = area\n",
    "countries_dict[\"sea\"] = sea\n",
    "\n",
    "# создадим датафрейм\n",
    "countries = pd.DataFrame(countries_dict, index=custom_index)\n",
    "countries"
   ]
  },
  {
   "cell_type": "markdown",
   "metadata": {
    "id": "u7_5jN9Hh7Gc"
   },
   "source": [
    "### Копирование датафрейма"
   ]
  },
  {
   "cell_type": "markdown",
   "metadata": {
    "id": "0nzEROEmI6WA"
   },
   "source": [
    "#### Метод `.copy()`"
   ]
  },
  {
   "cell_type": "code",
   "execution_count": null,
   "metadata": {
    "id": "F0G7bVXe1sPK"
   },
   "outputs": [],
   "source": [
    "# поместим датафрейм в новую переменную\n",
    "countries_new = countries"
   ]
  },
  {
   "cell_type": "code",
   "execution_count": null,
   "metadata": {
    "colab": {
     "base_uri": "https://localhost:8080/",
     "height": 237
    },
    "id": "xPub1N5th-O7",
    "outputId": "50a1c138-a164-4fdf-95e6-555861a18e54"
   },
   "outputs": [],
   "source": [
    "# удалим запись про Аргентину и сохраним результат\n",
    "countries_new.drop(labels=\"AR\", axis=0, inplace=True)\n",
    "\n",
    "# выведем исходный датафрейм\n",
    "countries"
   ]
  },
  {
   "cell_type": "code",
   "execution_count": null,
   "metadata": {
    "colab": {
     "base_uri": "https://localhost:8080/",
     "height": 269
    },
    "id": "LZvHi1bbv2MX",
    "outputId": "76be936e-5c23-40b3-c2c3-9d61c53b2dfc"
   },
   "outputs": [],
   "source": [
    "# в первую очередь вернем Аргентину в исходный датафрейм countries\n",
    "countries = pd.DataFrame(countries_dict, index=custom_index)\n",
    "\n",
    "# создадим копию, на этот раз с помощью метода .copy()\n",
    "countries_new = countries.copy()\n",
    "\n",
    "# вновь удалим запись про Аргентину\n",
    "countries_new.drop(labels=\"AR\", axis=0, inplace=True)\n",
    "\n",
    "# выведем исходный датафрейм\n",
    "countries"
   ]
  },
  {
   "cell_type": "markdown",
   "metadata": {
    "id": "dfrFUxoqJB45"
   },
   "source": [
    "#### Про параметр `inplace`"
   ]
  },
  {
   "cell_type": "code",
   "execution_count": null,
   "metadata": {
    "colab": {
     "base_uri": "https://localhost:8080/",
     "height": 143
    },
    "id": "Oe_rYYq4XIbJ",
    "outputId": "a3c98482-29bd-411f-b2d1-1d4f1a4e6b63"
   },
   "outputs": [],
   "source": [
    "# создадим несложный датафрейм\n",
    "df = pd.DataFrame([[1, 1, 1], [2, 2, 2], [3, 3, 3]], columns=[\"A\", \"B\", \"C\"])\n",
    "\n",
    "df"
   ]
  },
  {
   "cell_type": "code",
   "execution_count": null,
   "metadata": {
    "colab": {
     "base_uri": "https://localhost:8080/",
     "height": 143
    },
    "id": "gyy0Qy4BX6v_",
    "outputId": "a6c00ffe-2bdc-4368-d3cc-f9f5777b6b02"
   },
   "outputs": [],
   "source": [
    "# если метод выдает датафрейм, изменение не сохраняется\n",
    "df.drop(labels=[\"A\"], axis=1)"
   ]
  },
  {
   "cell_type": "code",
   "execution_count": null,
   "metadata": {
    "colab": {
     "base_uri": "https://localhost:8080/",
     "height": 143
    },
    "id": "SOH09BbrX_uz",
    "outputId": "24425e62-b0de-4a71-85c4-c2f6edbe54f3"
   },
   "outputs": [],
   "source": [
    "# проверим это\n",
    "df"
   ]
  },
  {
   "cell_type": "code",
   "execution_count": null,
   "metadata": {
    "colab": {
     "base_uri": "https://localhost:8080/"
    },
    "id": "VYgS7cHcXpSv",
    "outputId": "c532825a-06d6-41cf-c975-ec5af29e3f73"
   },
   "outputs": [],
   "source": [
    "# если метод выдает None, изменение постоянно\n",
    "print(df.drop(labels=[\"A\"], axis=1, inplace=True))"
   ]
  },
  {
   "cell_type": "code",
   "execution_count": null,
   "metadata": {
    "colab": {
     "base_uri": "https://localhost:8080/",
     "height": 143
    },
    "id": "thbKRsk9jLoa",
    "outputId": "fbf5ccf9-a89d-444c-a537-122e28a0566a"
   },
   "outputs": [],
   "source": [
    "# проверим\n",
    "df"
   ]
  },
  {
   "cell_type": "code",
   "execution_count": null,
   "metadata": {
    "colab": {
     "base_uri": "https://localhost:8080/"
    },
    "id": "M5j4r6doXwTP",
    "outputId": "af08db17-48ca-4548-8752-a434eacd8e35"
   },
   "outputs": [],
   "source": [
    "# нельзя использовать inplace = True и записывать в переменную одновременно\n",
    "# df = df.drop(labels=[\"B\"], axis=1, inplace=True)\n",
    "\n",
    "# в этом случае мы записываем None в переменную df\n",
    "# print(df)"
   ]
  },
  {
   "cell_type": "markdown",
   "metadata": {
    "id": "gh22f2Crd2NZ"
   },
   "source": [
    "### Столбцы датафрейма"
   ]
  },
  {
   "cell_type": "markdown",
   "metadata": {
    "id": "l0TajicpgpB9"
   },
   "source": [
    "Именование столбцов при создании датафрейма"
   ]
  },
  {
   "cell_type": "code",
   "execution_count": null,
   "metadata": {},
   "outputs": [],
   "source": [
    "np.array([country, capital, population, area, sea])"
   ]
  },
  {
   "cell_type": "code",
   "execution_count": null,
   "metadata": {
    "colab": {
     "base_uri": "https://localhost:8080/"
    },
    "id": "LnPyV3gqbGQM",
    "outputId": "549b1ac5-0e56-4ed0-8f64-3805c29dd5c1"
   },
   "outputs": [],
   "source": [
    "# создадим список с названиями столбцов на кириллице\n",
    "custom_columns = [\"страна\", \"столица\", \"население\", \"площадь\", \"море\"]\n",
    "\n",
    "# и транспонированный массив Numpy с данными о странах\n",
    "arr = np.array([country, capital, population, area, sea]).T\n",
    "arr"
   ]
  },
  {
   "cell_type": "code",
   "execution_count": null,
   "metadata": {
    "colab": {
     "base_uri": "https://localhost:8080/",
     "height": 269
    },
    "id": "yipKrPhwgxAl",
    "outputId": "11ea5ab1-273a-4366-a54b-7e75048c9e28"
   },
   "outputs": [],
   "source": [
    "# создадим датафрейм, передав в параметр columns названия столбцов на кириллице\n",
    "countries = pd.DataFrame(data=arr, index=custom_index, columns=custom_columns)\n",
    "\n",
    "countries"
   ]
  },
  {
   "cell_type": "code",
   "execution_count": null,
   "metadata": {
    "id": "pl2w2FTeooMR"
   },
   "outputs": [],
   "source": [
    "# вернем прежние названия столбцов\n",
    "countries.columns = [\"country\", \"capital\", \"population\", \"area\", \"sea\"]"
   ]
  },
  {
   "cell_type": "markdown",
   "metadata": {
    "id": "ui1SxVRCgsY3"
   },
   "source": [
    "Переименование столбцов"
   ]
  },
  {
   "cell_type": "code",
   "execution_count": null,
   "metadata": {
    "colab": {
     "base_uri": "https://localhost:8080/",
     "height": 269
    },
    "id": "wDOxbV5hhcqo",
    "outputId": "5f4f0599-2add-4668-f6f9-ad0cf6964aa5"
   },
   "outputs": [],
   "source": [
    "# переименуем столбец capital на city\n",
    "countries.rename(columns={\"capital\": \"city\"}, inplace=True)\n",
    "countries"
   ]
  },
  {
   "cell_type": "markdown",
   "metadata": {
    "id": "7e8KfrL9iaKy"
   },
   "source": [
    "### Тип данных в столбце"
   ]
  },
  {
   "cell_type": "markdown",
   "metadata": {
    "id": "nlJcUHHuqox5"
   },
   "source": [
    "Просмотр типа данных в столбце"
   ]
  },
  {
   "cell_type": "code",
   "execution_count": null,
   "metadata": {
    "colab": {
     "base_uri": "https://localhost:8080/",
     "height": 241
    },
    "id": "cQN1nGyNh3N4",
    "outputId": "919c1e0a-822f-471e-bd73-88ea04ca4f76"
   },
   "outputs": [],
   "source": [
    "# в одном столбце содержится один тип данных\n",
    "# посмотрим на тип данных каждого из столбцов\n",
    "countries.dtypes"
   ]
  },
  {
   "cell_type": "markdown",
   "metadata": {
    "id": "hk_TegFBqrgc"
   },
   "source": [
    "Изменение типа данных"
   ]
  },
  {
   "cell_type": "code",
   "execution_count": null,
   "metadata": {
    "id": "Q2laHJqYqv1E"
   },
   "outputs": [],
   "source": [
    "# преобразуем тип данных столбца population в int\n",
    "countries.population = countries.population.astype(\"int\")"
   ]
  },
  {
   "cell_type": "code",
   "execution_count": null,
   "metadata": {
    "id": "YfJGatKqifBv"
   },
   "outputs": [],
   "source": [
    "# изменим тип данных в столбцах area и sea\n",
    "countries = countries.astype({\"area\": \"float\", \"sea\": \"category\"})"
   ]
  },
  {
   "cell_type": "code",
   "execution_count": null,
   "metadata": {
    "colab": {
     "base_uri": "https://localhost:8080/",
     "height": 241
    },
    "id": "J8xCBigcqxhU",
    "outputId": "2ba72b86-2034-4bed-de12-42a607c2a91e"
   },
   "outputs": [],
   "source": [
    "# посмотрим на результат\n",
    "countries.dtypes"
   ]
  },
  {
   "cell_type": "markdown",
   "metadata": {
    "id": "s-FeyI8Lwq7J"
   },
   "source": [
    "Тип данных category"
   ]
  },
  {
   "cell_type": "code",
   "execution_count": null,
   "metadata": {
    "colab": {
     "base_uri": "https://localhost:8080/",
     "height": 303
    },
    "id": "9wX5BHUSagud",
    "outputId": "2edc43de-54fa-4681-8566-ad3e7dae0a75"
   },
   "outputs": [],
   "source": [
    "# тип category похож на фактор в R\n",
    "countries.sea"
   ]
  },
  {
   "cell_type": "markdown",
   "metadata": {
    "id": "7fSGhr08vr0B"
   },
   "source": [
    "Фильтр столбцов по типу данных"
   ]
  },
  {
   "cell_type": "code",
   "execution_count": null,
   "metadata": {
    "colab": {
     "base_uri": "https://localhost:8080/",
     "height": 269
    },
    "id": "NWdWmNwEi9V_",
    "outputId": "7764f62c-fb96-4f05-c65d-81d5fed48bb6"
   },
   "outputs": [],
   "source": [
    "# выберем только типы данных int и float\n",
    "countries.select_dtypes(include=[\"int64\", \"float64\"])"
   ]
  },
  {
   "cell_type": "code",
   "execution_count": null,
   "metadata": {
    "colab": {
     "base_uri": "https://localhost:8080/",
     "height": 269
    },
    "id": "9vI-Gc4Qk727",
    "outputId": "498db74f-2aaf-4d1d-9ac3-5087bc1be037"
   },
   "outputs": [],
   "source": [
    "# выберем все типы данных, кроме object и category\n",
    "countries.select_dtypes(exclude=[\"object\", \"category\"])"
   ]
  },
  {
   "cell_type": "markdown",
   "metadata": {
    "id": "hSBrGsTIwfcr"
   },
   "source": [
    "### Добавление строк и столбцов"
   ]
  },
  {
   "cell_type": "markdown",
   "metadata": {
    "id": "F5AOlU7PxFJ5"
   },
   "source": [
    "#### Добавление строк"
   ]
  },
  {
   "cell_type": "markdown",
   "metadata": {
    "id": "0CF9_PPpU7uR"
   },
   "source": [
    "Использование `.iloc[]`"
   ]
  },
  {
   "cell_type": "code",
   "execution_count": null,
   "metadata": {
    "colab": {
     "base_uri": "https://localhost:8080/",
     "height": 300
    },
    "id": "rErQ8UbTWRRJ",
    "outputId": "1bb509ec-e8ff-4232-928f-fce4c9106598"
   },
   "outputs": [],
   "source": [
    "# ни Испания, ни Нидерланды, ни Перу не сохранились\n",
    "countries"
   ]
  },
  {
   "cell_type": "code",
   "execution_count": null,
   "metadata": {
    "colab": {
     "base_uri": "https://localhost:8080/",
     "height": 300
    },
    "id": "_q8jozQVUanF",
    "outputId": "b5876305-9d6e-4428-e7dc-8a4c874f8630"
   },
   "outputs": [],
   "source": [
    "# добавим данные об этих странах на постоянной основе с помощью метода .iloc[]\n",
    "countries.iloc[[5, 6, 7]] = np.array(\n",
    "    [\n",
    "        [\"Spain\", \"Madrid\", 47, 0.5, 1],\n",
    "        [\"Netherlands\", \"Amsterdam\", 17, 0.04, 1],\n",
    "        [\"Peru\", \"Lima\", 33, 1.3, 1],\n",
    "    ]\n",
    ")\n",
    "\n",
    "# такой способ поместил строки на нужный нам индекс,\n",
    "# заменив (!) существующие данные\n",
    "countries"
   ]
  },
  {
   "cell_type": "markdown",
   "metadata": {
    "id": "oirJhmLRWyfT"
   },
   "source": [
    "#### Добавление столбцов"
   ]
  },
  {
   "cell_type": "markdown",
   "metadata": {
    "id": "J7Wt-6J2c1ct"
   },
   "source": [
    "Объявление нового столбца"
   ]
  },
  {
   "cell_type": "code",
   "execution_count": null,
   "metadata": {
    "colab": {
     "base_uri": "https://localhost:8080/",
     "height": 300
    },
    "id": "GuzNdRHnVeWd",
    "outputId": "84f4d833-5027-4a49-f919-67d2783bad22"
   },
   "outputs": [],
   "source": [
    "# новый столбец датафрейма можно объявить и сразу добавить в него необходимые данные\n",
    "# например, добавим данные о плотности населения\n",
    "countries[\"pop_density\"] = [153, 49, 281, 9, 17, 94, 508, 26]\n",
    "countries"
   ]
  },
  {
   "cell_type": "markdown",
   "metadata": {
    "id": "lmO_xBpXc46V"
   },
   "source": [
    "Метод `.insert()`"
   ]
  },
  {
   "cell_type": "code",
   "execution_count": null,
   "metadata": {
    "id": "I8cpG91Ycb6z"
   },
   "outputs": [],
   "source": [
    "# добавим столбец с кодами стран\n",
    "countries.insert(\n",
    "    loc=1,  # это будет второй по счету столбец\n",
    "    column=\"code\",  # название столбца\n",
    "    value=[\"CN\", \"VN\", \"GB\", \"RU\", \"AR\", \"ES\", \"NL\", \"PE\"],\n",
    ")  # значения столбца"
   ]
  },
  {
   "cell_type": "code",
   "execution_count": null,
   "metadata": {
    "colab": {
     "base_uri": "https://localhost:8080/",
     "height": 300
    },
    "id": "nmQqPJNbd4F7",
    "outputId": "49f19d24-1a62-4d04-dc5b-72a22713e61d"
   },
   "outputs": [],
   "source": [
    "# изменения сразу сохраняются в датафрейме\n",
    "countries"
   ]
  },
  {
   "cell_type": "markdown",
   "metadata": {
    "id": "NPBoNyNWAdNe"
   },
   "source": [
    "Метод `.assign()`"
   ]
  },
  {
   "cell_type": "code",
   "execution_count": null,
   "metadata": {
    "colab": {
     "base_uri": "https://localhost:8080/",
     "height": 300
    },
    "id": "ePoqAYOTAhF_",
    "outputId": "51f9008a-8f8c-43f3-dc55-85f7fd2fd8a8"
   },
   "outputs": [],
   "source": [
    "# создадим столбец area_miles, переведя площадь в мили\n",
    "countries = countries.assign(area_miles=countries.area / 2.59).round(2)\n",
    "countries"
   ]
  },
  {
   "cell_type": "code",
   "execution_count": null,
   "metadata": {
    "id": "Ix3l_JgMaSrH"
   },
   "outputs": [],
   "source": [
    "# удалим этот столбец, чтобы рассмотреть другие методы\n",
    "countries.drop(labels=\"area_miles\", axis=1, inplace=True)"
   ]
  },
  {
   "cell_type": "markdown",
   "metadata": {
    "id": "cgkhVuycZ-N0"
   },
   "source": [
    "Можно сложнее"
   ]
  },
  {
   "cell_type": "code",
   "execution_count": null,
   "metadata": {
    "colab": {
     "base_uri": "https://localhost:8080/",
     "height": 300
    },
    "id": "dTjgDi3ZaBGy",
    "outputId": "e59b71d2-78cb-4502-f62f-ac419f5e5659"
   },
   "outputs": [],
   "source": [
    "# выведем индекс и содержание строк\n",
    "for index, row in countries.iterrows():\n",
    "    # запишем для каждой строки (index) в новый столбец area_miles\n",
    "    # округленное значение площади row.area в милях\n",
    "    countries.loc[index, \"area_miles\"] = np.round(row.area / 2.59, 2)\n",
    "\n",
    "# посмотрим на результат\n",
    "countries"
   ]
  },
  {
   "cell_type": "code",
   "execution_count": null,
   "metadata": {
    "id": "iobZg_d92FeU"
   },
   "outputs": [],
   "source": [
    "# снова удалим этот столбец\n",
    "countries.drop(labels=\"area_miles\", axis=1, inplace=True)"
   ]
  },
  {
   "cell_type": "markdown",
   "metadata": {
    "id": "QZpMhQH4107e"
   },
   "source": [
    "Можно проще"
   ]
  },
  {
   "cell_type": "code",
   "execution_count": null,
   "metadata": {
    "colab": {
     "base_uri": "https://localhost:8080/",
     "height": 300
    },
    "id": "x58cuDcL13-2",
    "outputId": "40d2b1e2-b47c-4a39-a1b8-13692be14443"
   },
   "outputs": [],
   "source": [
    "# объявим новый столбец и присвоим ему нужное нам значение\n",
    "countries[\"area_miles\"] = (countries.area / 2.59).round(2)\n",
    "countries"
   ]
  },
  {
   "cell_type": "markdown",
   "metadata": {
    "id": "jcnI63eruV2y"
   },
   "source": [
    "### Удаление строк и столбцов"
   ]
  },
  {
   "cell_type": "markdown",
   "metadata": {
    "id": "KEPTST37AkJy"
   },
   "source": [
    "#### Удаление строк"
   ]
  },
  {
   "cell_type": "code",
   "execution_count": null,
   "metadata": {
    "colab": {
     "base_uri": "https://localhost:8080/",
     "height": 237
    },
    "id": "bJM8pCwoAlxG",
    "outputId": "81779f83-01cc-4229-e30b-37e91c3aaee4"
   },
   "outputs": [],
   "source": [
    "# для удаления строк можно использовать метод .drop()\n",
    "# с параметрами labels (индекс удаляемых строк) и axis = 0\n",
    "countries.drop(labels=[0, 1], axis=0)"
   ]
  },
  {
   "cell_type": "code",
   "execution_count": null,
   "metadata": {
    "colab": {
     "base_uri": "https://localhost:8080/",
     "height": 237
    },
    "id": "MvcpUP9rNkjG",
    "outputId": "837eee47-68ea-4f31-9df5-a9b9137fd9a3"
   },
   "outputs": [],
   "source": [
    "# кроме того, можно использовать метод .drop() с единственным параметром index\n",
    "countries.drop(index=[5, 7])"
   ]
  },
  {
   "cell_type": "code",
   "execution_count": null,
   "metadata": {
    "colab": {
     "base_uri": "https://localhost:8080/",
     "height": 269
    },
    "id": "fpREt6PcOFZl",
    "outputId": "c2750e8f-086f-4aba-e522-f579bee11e28"
   },
   "outputs": [],
   "source": [
    "# передадим индекс датафрейма через атрибут index и удалим четвертую строку\n",
    "countries.drop(index=countries.index[4])"
   ]
  },
  {
   "cell_type": "code",
   "execution_count": null,
   "metadata": {
    "colab": {
     "base_uri": "https://localhost:8080/",
     "height": 237
    },
    "id": "6f9r_GEWOU3T",
    "outputId": "1f30ec23-47e2-4c36-a6e6-4f9d383f647b"
   },
   "outputs": [],
   "source": [
    "# с атрубутом датафрейма index мы можем делать срезы\n",
    "# удалим каждую вторую строку, начиная с четвертой с конца\n",
    "countries.drop(index=countries.index[-4::2])"
   ]
  },
  {
   "cell_type": "markdown",
   "metadata": {
    "id": "ma3vvI_cAgoe"
   },
   "source": [
    "#### Удаление столбцов"
   ]
  },
  {
   "cell_type": "code",
   "execution_count": null,
   "metadata": {
    "colab": {
     "base_uri": "https://localhost:8080/",
     "height": 300
    },
    "id": "knFb5pX6uacd",
    "outputId": "dbc61d58-6232-4d04-b975-2557d51aa395"
   },
   "outputs": [],
   "source": [
    "# используем параметры labels и axis = 1 метода .drop() для удаления столбцов\n",
    "countries.drop(labels=[\"area_miles\", \"code\"], axis=1)"
   ]
  },
  {
   "cell_type": "code",
   "execution_count": null,
   "metadata": {
    "colab": {
     "base_uri": "https://localhost:8080/",
     "height": 300
    },
    "id": "GX_gqPm2RXFP",
    "outputId": "05425509-635a-4001-c759-d8ccfcfa7d63"
   },
   "outputs": [],
   "source": [
    "# используем параметр columns для удаления столбцов\n",
    "countries.drop(columns=[\"area_miles\", \"code\"])"
   ]
  },
  {
   "cell_type": "code",
   "execution_count": null,
   "metadata": {
    "colab": {
     "base_uri": "https://localhost:8080/",
     "height": 300
    },
    "id": "fEZ55jpwRhpi",
    "outputId": "ea79380a-5695-4f81-e2ac-d634aa490920"
   },
   "outputs": [],
   "source": [
    "# через атрибут датафрейма columns мы можем передавать номера удаляемых столбцов\n",
    "countries.drop(columns=countries.columns[-1])"
   ]
  },
  {
   "cell_type": "code",
   "execution_count": null,
   "metadata": {
    "colab": {
     "base_uri": "https://localhost:8080/",
     "height": 269
    },
    "id": "HSVXLT9iX7rW",
    "outputId": "1fefac44-5d78-4f50-df8e-e6c521de2c09"
   },
   "outputs": [],
   "source": [
    "# наконец удалим пятую строку и несколько столбцов и сохраним изменения\n",
    "countries.drop(index=4, inplace=True)\n",
    "countries.drop(columns=[\"code\", \"pop_density\", \"area_miles\"], inplace=True)\n",
    "countries"
   ]
  },
  {
   "cell_type": "markdown",
   "metadata": {
    "id": "OVlhRpsHR8Ek"
   },
   "source": [
    "#### Удаление по многоуровневому индексу"
   ]
  },
  {
   "cell_type": "code",
   "execution_count": null,
   "metadata": {
    "colab": {
     "base_uri": "https://localhost:8080/",
     "height": 331
    },
    "id": "xbwbPzGbVzx4",
    "outputId": "438d74c4-0dc7-48a0-e62e-527f0b69ff9c"
   },
   "outputs": [],
   "source": [
    "# подготовим данные для многоуровневого индекса строк\n",
    "rows = [\n",
    "    (\"Asia\", \"CN\"),\n",
    "    (\"Asia\", \"VN\"),\n",
    "    (\"Europe\", \"GB\"),\n",
    "    (\"Europe\", \"RU\"),\n",
    "    (\"Europe\", \"ES\"),\n",
    "    (\"Europe\", \"NL\"),\n",
    "    (\"S. America\", \"PE\"),\n",
    "]\n",
    "\n",
    "# и столбцов\n",
    "cols = [\n",
    "    (\"names\", \"country\"),\n",
    "    (\"names\", \"city\"),\n",
    "    (\"data\", \"population\"),\n",
    "    (\"data\", \"area\"),\n",
    "    (\"data\", \"sea\"),\n",
    "]\n",
    "\n",
    "# создадим многоуровневый (иерархический) индекс\n",
    "# для индекса строк добавим названия столбцов индекса через параметр names\n",
    "custom_multindex = pd.MultiIndex.from_tuples(rows, names=[\"region\", \"code\"])\n",
    "custom_multicols = pd.MultiIndex.from_tuples(cols)\n",
    "\n",
    "# поместим индексы в атрибуты index и columns датафрейма\n",
    "countries.index = custom_multindex\n",
    "countries.columns = custom_multicols\n",
    "\n",
    "# посмотрим на результат\n",
    "countries"
   ]
  },
  {
   "cell_type": "markdown",
   "metadata": {
    "id": "Clcjo97QfAzY"
   },
   "source": [
    "Удаление строк"
   ]
  },
  {
   "cell_type": "code",
   "execution_count": null,
   "metadata": {
    "colab": {
     "base_uri": "https://localhost:8080/",
     "height": 269
    },
    "id": "QzL8ulAVcVpm",
    "outputId": "2b2406f9-6d21-48b4-88af-475e175bb147"
   },
   "outputs": [],
   "source": [
    "# удалим регион Asia указав соответствующий label, axis = 0, level = 0\n",
    "countries.drop(labels=\"Asia\", axis=0, level=0)"
   ]
  },
  {
   "cell_type": "code",
   "execution_count": null,
   "metadata": {
    "colab": {
     "base_uri": "https://localhost:8080/",
     "height": 300
    },
    "id": "2zMx7KQib_nq",
    "outputId": "7ec7444d-86a4-4226-b3cf-54255fd4f231"
   },
   "outputs": [],
   "source": [
    "# мы также можем удалять строки через параметр index с указанием нужного level\n",
    "countries.drop(index=\"RU\", level=1)"
   ]
  },
  {
   "cell_type": "markdown",
   "metadata": {
    "id": "oxsjnLpOfWgU"
   },
   "source": [
    "Удаление столбцов"
   ]
  },
  {
   "cell_type": "code",
   "execution_count": null,
   "metadata": {
    "colab": {
     "base_uri": "https://localhost:8080/",
     "height": 331
    },
    "id": "aiGYQLH4cRzb",
    "outputId": "3bb93e28-f85b-40e2-c73c-b8210ef9ff32"
   },
   "outputs": [],
   "source": [
    "# удалим все столбцы в разделе names на нулевом уровне индекса столбцов\n",
    "countries.drop(labels=\"names\", level=0, axis=1)"
   ]
  },
  {
   "cell_type": "code",
   "execution_count": null,
   "metadata": {
    "colab": {
     "base_uri": "https://localhost:8080/",
     "height": 331
    },
    "id": "MVZlAQzDckns",
    "outputId": "ad13d04b-6d4f-40fe-e2e6-eb9c839adc5f"
   },
   "outputs": [],
   "source": [
    "# для удаления столбцов можно использовать параметр columns\n",
    "# с указанием соответствующего уровня индекса (level) столбцов\n",
    "countries.drop(columns=[\"city\", \"area\"], level=1)"
   ]
  },
  {
   "cell_type": "markdown",
   "metadata": {
    "id": "KbSEzO1_HTyn"
   },
   "source": [
    "### Применение функций"
   ]
  },
  {
   "cell_type": "code",
   "execution_count": null,
   "metadata": {
    "colab": {
     "base_uri": "https://localhost:8080/",
     "height": 206
    },
    "id": "kF-a9z4bHbAC",
    "outputId": "3509543e-47af-4d92-f18c-6e5eb141a6a4"
   },
   "outputs": [],
   "source": [
    "# создадим новый датафрейм с данными нескольких человек\n",
    "people = pd.DataFrame(\n",
    "    {\n",
    "        \"name\": [\"Алексей\", \"Иван\", \"Анна\", \"Ольга\", \"Николай\"],\n",
    "        \"gender\": [1, 1, 0, 2, 1],\n",
    "        \"age\": [35, 20, 13, 28, 16],\n",
    "        \"height\": [180.46, 182.26, 165.12, 168.04, 178.68],\n",
    "        \"weight\": [73.61, 75.34, 50.22, 52.14, 69.72],\n",
    "    }\n",
    ")\n",
    "\n",
    "people"
   ]
  },
  {
   "cell_type": "markdown",
   "metadata": {
    "id": "9uu9x7cvgpD0"
   },
   "source": [
    "#### Метод `.map()`"
   ]
  },
  {
   "cell_type": "code",
   "execution_count": null,
   "metadata": {
    "colab": {
     "base_uri": "https://localhost:8080/",
     "height": 206
    },
    "id": "DkXZfbc7fZR5",
    "outputId": "3d6442f0-e3bc-4f60-87ad-f04a24532719"
   },
   "outputs": [],
   "source": [
    "# создадим карту (map) того, как преобразовать существующие значения в новые\n",
    "# такая карта представляет собой питоновский словарь,\n",
    "# где ключи - это старые данные, а значения - новые\n",
    "gender_map = {0: \"female\", 1: \"male\"}\n",
    "\n",
    "# применим эту карту к нужному нам столбцу\n",
    "people[\"gender\"] = people[\"gender\"].map(gender_map)\n",
    "people"
   ]
  },
  {
   "cell_type": "code",
   "execution_count": null,
   "metadata": {
    "colab": {
     "base_uri": "https://localhost:8080/",
     "height": 206
    },
    "id": "iPJCvXS9JW1V",
    "outputId": "098e6a05-a831-474c-9470-bd660da09e28"
   },
   "outputs": [],
   "source": [
    "# в метод .map() мы можем передать и lambda-функцию\n",
    "# например, для того, чтобы выявить совершеннолетних и несовершеннолетних людей\n",
    "people[\"age_group\"] = people[\"age\"].map(lambda xx: \"adult\" if xx >= 18 else \"minor\")\n",
    "people"
   ]
  },
  {
   "cell_type": "code",
   "execution_count": null,
   "metadata": {
    "id": "iqV-barDKl6w"
   },
   "outputs": [],
   "source": [
    "# удалим только что созданный столбец age_group\n",
    "people.drop(labels=\"age_group\", axis=1, inplace=True)"
   ]
  },
  {
   "cell_type": "code",
   "execution_count": null,
   "metadata": {
    "id": "kLHNFkM9Layh"
   },
   "outputs": [],
   "source": [
    "# сделаем то же самое с помощью собственной функции\n",
    "# обратите внимание, такая функция не допускает дополнительных параметров,\n",
    "# только те данные, которые нужно преобразовать (age)\n",
    "\n",
    "\n",
    "def get_age_group(age: int) -> str:\n",
    "    \"\"\"Docs.\"\"\"\n",
    "    # например, мы не можем сделать threshold произвольным параметром\n",
    "    threshold = 18\n",
    "\n",
    "    if age >= threshold:\n",
    "        age_group = \"adult\"\n",
    "\n",
    "    else:\n",
    "        age_group = \"minor\"\n",
    "\n",
    "    return age_group"
   ]
  },
  {
   "cell_type": "code",
   "execution_count": null,
   "metadata": {
    "colab": {
     "base_uri": "https://localhost:8080/",
     "height": 206
    },
    "id": "ol8GZ7s4Lp10",
    "outputId": "c64241e2-334e-4105-e652-f6163ed86400"
   },
   "outputs": [],
   "source": [
    "# применим эту функцию к столбцу age\n",
    "people[\"age_group\"] = people[\"age\"].map(get_age_group)\n",
    "people"
   ]
  },
  {
   "cell_type": "code",
   "execution_count": null,
   "metadata": {
    "id": "EyuQT82EM3aO"
   },
   "outputs": [],
   "source": [
    "# снова удалим созданный столбец\n",
    "people.drop(labels=\"age_group\", axis=1, inplace=True)"
   ]
  },
  {
   "cell_type": "markdown",
   "metadata": {
    "id": "lW66pfysUR3l"
   },
   "source": [
    "#### Функция `np.where()`"
   ]
  },
  {
   "cell_type": "code",
   "execution_count": null,
   "metadata": {
    "colab": {
     "base_uri": "https://localhost:8080/",
     "height": 206
    },
    "id": "ov0Op_uTUXo8",
    "outputId": "f4878e3f-5f40-4f91-da3a-c77b867a051d"
   },
   "outputs": [],
   "source": [
    "# внутри функции np.where() три параметра: (1) условие,\n",
    "# (2) значение, если условие выдает True, (3) и значение, если условие выдает False\n",
    "people[\"age_group\"] = np.where(people[\"age\"] >= 18, \"adult\", \"minor\")\n",
    "people"
   ]
  },
  {
   "cell_type": "code",
   "execution_count": null,
   "metadata": {
    "id": "GfiUZ3LeUbKP"
   },
   "outputs": [],
   "source": [
    "# удалим созданный столбец\n",
    "people.drop(labels=\"age_group\", axis=1, inplace=True)"
   ]
  },
  {
   "cell_type": "markdown",
   "metadata": {
    "id": "GVRy3QN1VM-s"
   },
   "source": [
    "#### Метод `.where()`"
   ]
  },
  {
   "cell_type": "markdown",
   "metadata": {
    "id": "31f2Anb6wGTQ"
   },
   "source": [
    "Пример 1."
   ]
  },
  {
   "cell_type": "code",
   "execution_count": null,
   "metadata": {
    "colab": {
     "base_uri": "https://localhost:8080/",
     "height": 241
    },
    "id": "j7gzIHQ6p9zK",
    "outputId": "5e5c1aa6-7c26-48d1-ba66-884b3f9c5bef"
   },
   "outputs": [],
   "source": [
    "# заменим возраст тех, кому меньше 18, на NaN\n",
    "people.age.where(people.age >= 18, other=np.nan)"
   ]
  },
  {
   "cell_type": "markdown",
   "metadata": {
    "id": "n4j226CpwH_7"
   },
   "source": [
    "Пример 2."
   ]
  },
  {
   "cell_type": "code",
   "execution_count": null,
   "metadata": {
    "colab": {
     "base_uri": "https://localhost:8080/",
     "height": 143
    },
    "id": "65acnABjUn4_",
    "outputId": "8554f993-6622-4652-8d3f-50d1f04505fb"
   },
   "outputs": [],
   "source": [
    "# создадим матрицу из вложенных списков\n",
    "nums_matrix = [[-13, 7, 1], [4, -2, 25], [45, -3, 8]]\n",
    "\n",
    "# преобразуем в датафрейм\n",
    "# (матрица не обязательно должна быть массивом Numpy (!))\n",
    "nums = pd.DataFrame(nums_matrix)\n",
    "nums"
   ]
  },
  {
   "cell_type": "code",
   "execution_count": null,
   "metadata": {
    "colab": {
     "base_uri": "https://localhost:8080/",
     "height": 143
    },
    "id": "2HkxXTUVWz85",
    "outputId": "d0ac6156-bcd6-4498-c97f-e75cc93242bd"
   },
   "outputs": [],
   "source": [
    "# если число положительное (nums < 0 == True), оставим его без изменений\n",
    "# если отрицательное (False), заменим на обратное (т.е. сделаем положительным)\n",
    "nums.where(nums > 0, other=-nums)"
   ]
  },
  {
   "cell_type": "markdown",
   "metadata": {
    "id": "TbogFtpeMkuQ"
   },
   "source": [
    "#### Метод `.apply()`"
   ]
  },
  {
   "cell_type": "markdown",
   "metadata": {
    "id": "0-46OOGJO6sF"
   },
   "source": [
    "Применение функции с аргументами"
   ]
  },
  {
   "cell_type": "code",
   "execution_count": null,
   "metadata": {
    "id": "H79Q5BrDLva4"
   },
   "outputs": [],
   "source": [
    "# в отличие от .map(), метод .apply() позволяет передавать аргументы в применяемую функцию\n",
    "# объявим функцию, которой можно передать не только значение возраста, но и порог,\n",
    "# при котором мы будем считать человека совершеннолетним\n",
    "\n",
    "\n",
    "def get_age_group2(age: int, threshold: int) -> str:\n",
    "    \"\"\"Docs.\"\"\"\n",
    "    if age >= threshold:\n",
    "        age_group = \"adult\"\n",
    "    else:\n",
    "        age_group = \"minor\"\n",
    "\n",
    "    return age_group"
   ]
  },
  {
   "cell_type": "code",
   "execution_count": null,
   "metadata": {
    "colab": {
     "base_uri": "https://localhost:8080/",
     "height": 206
    },
    "id": "4BDXRhPvM7xv",
    "outputId": "194de3bf-ca6b-4ba0-f181-a17500efb5a4"
   },
   "outputs": [],
   "source": [
    "# применим эту функцию к столбцу age, выбрав в качестве порогового значения 21 год\n",
    "people[\"age_group\"] = people[\"age\"].apply(get_age_group2, threshold=21)\n",
    "\n",
    "# посмотрим на результат\n",
    "people"
   ]
  },
  {
   "cell_type": "markdown",
   "metadata": {
    "id": "0v4y--ZfO1-q"
   },
   "source": [
    "Применение к столбцам"
   ]
  },
  {
   "cell_type": "code",
   "execution_count": null,
   "metadata": {
    "colab": {
     "base_uri": "https://localhost:8080/",
     "height": 206
    },
    "id": "D9Z4GUwWNw79",
    "outputId": "d59ca2b3-01be-4789-bbe3-12940876194c"
   },
   "outputs": [],
   "source": [
    "# заменим значения в столбцах height и weight на медиану по столбцам\n",
    "people.iloc[:, 3:5] = people.iloc[:, 3:5].apply(np.median, axis=0)\n",
    "people"
   ]
  },
  {
   "cell_type": "markdown",
   "metadata": {
    "id": "zaX-3SvrRIYW"
   },
   "source": [
    "Применение к строкам"
   ]
  },
  {
   "cell_type": "code",
   "execution_count": null,
   "metadata": {
    "id": "rttX9mBPwu-g"
   },
   "outputs": [],
   "source": [
    "# создадим исходный датафрейм\n",
    "people = pd.DataFrame(\n",
    "    {\n",
    "        \"name\": [\"Алексей\", \"Иван\", \"Анна\", \"Ольга\", \"Николай\"],\n",
    "        \"gender\": [1, 1, 0, 2, 1],\n",
    "        \"age\": [35, 20, 13, 28, 16],\n",
    "        \"height\": [180.0, 182.0, 165.0, 168.0, 179.0],\n",
    "        \"weight\": [74.0, 75.0, 50.0, 52.0, 70.0],\n",
    "    }\n",
    ")"
   ]
  },
  {
   "cell_type": "code",
   "execution_count": null,
   "metadata": {},
   "outputs": [],
   "source": [
    "people"
   ]
  },
  {
   "cell_type": "code",
   "execution_count": null,
   "metadata": {
    "id": "oCjlH-e9QeYM"
   },
   "outputs": [],
   "source": [
    "# создадим функцию, которая рассчитает индекс массы тела\n",
    "\n",
    "\n",
    "def get_bmi(xx: pd.Series) -> float:  # type: ignore[explicit-any]\n",
    "    \"\"\"Docs.\"\"\"\n",
    "    bmi = float(xx[\"weight\"] / (xx[\"height\"] / 100) ** 2)\n",
    "    return bmi"
   ]
  },
  {
   "cell_type": "code",
   "execution_count": null,
   "metadata": {
    "colab": {
     "base_uri": "https://localhost:8080/",
     "height": 206
    },
    "id": "whDb7rW_RTR0",
    "outputId": "649e5a53-1caa-49d7-f275-c73fe76adf4f"
   },
   "outputs": [],
   "source": [
    "# применим ее к каждой строке (человеку) и сохраним результат в новом столбце\n",
    "people[\"bmi\"] = people.apply(get_bmi, axis=1).round(2)\n",
    "people"
   ]
  },
  {
   "cell_type": "markdown",
   "metadata": {
    "id": "cgloo3MCSsoy"
   },
   "source": [
    "#### Метод `.pipe()`"
   ]
  },
  {
   "cell_type": "code",
   "execution_count": null,
   "metadata": {
    "colab": {
     "base_uri": "https://localhost:8080/",
     "height": 206
    },
    "id": "cv9H7LiySwhX",
    "outputId": "675340c4-a710-4e19-b6eb-eac8afd7587e"
   },
   "outputs": [],
   "source": [
    "# вновь создадим исходный датафрейм\n",
    "people = pd.DataFrame(\n",
    "    {\n",
    "        \"name\": [\"Алексей\", \"Иван\", \"Анна\", \"Ольга\", \"Николай\"],\n",
    "        \"gender\": [1, 1, 0, 2, 1],\n",
    "        \"age\": [35, 20, 13, 28, 16],\n",
    "        \"height\": [180.46, 182.26, 165.12, 168.04, 178.68],\n",
    "        \"weight\": [73.61, 75.34, 50.22, 52.14, 69.72],\n",
    "    }\n",
    ")\n",
    "\n",
    "people"
   ]
  },
  {
   "cell_type": "code",
   "execution_count": null,
   "metadata": {
    "id": "wjYx3jMN2Ioz"
   },
   "outputs": [],
   "source": [
    "# создадим несколько функций\n",
    "\n",
    "\n",
    "# в первую очередь скопируем датафрейм\n",
    "def copy_df(dff: pd.DataFrame) -> pd.DataFrame:\n",
    "    \"\"\"Docs.\"\"\"\n",
    "    return dff.copy()\n",
    "\n",
    "\n",
    "# заменим значения столбца на новые с помощью метода .map()\n",
    "\n",
    "\n",
    "def map_column(\n",
    "    dff: pd.DataFrame, column: str, label1: str, label2: str\n",
    ") -> pd.DataFrame:\n",
    "    \"\"\"Docs.\"\"\"\n",
    "    labels_map = {0: label1, 1: label2}\n",
    "    dff[column] = dff[column].map(labels_map)\n",
    "    return dff\n",
    "\n",
    "\n",
    "# кроме этого, создадим функцию для превращения количественной переменной\n",
    "# в бинарную категориальную\n",
    "\n",
    "\n",
    "def to_categorical(  # pylint: disable=too-many-arguments,too-many-positional-arguments\n",
    "    dff: pd.DataFrame,\n",
    "    newcol: str,\n",
    "    condcol: str,\n",
    "    thres: int,\n",
    "    cat1: str = \"\",\n",
    "    cat2: str = \"\",\n",
    ") -> pd.DataFrame:\n",
    "    \"\"\"Docs.\"\"\"\n",
    "    dff[newcol] = np.where(dff[condcol] >= thres, cat1, cat2)\n",
    "    return dff"
   ]
  },
  {
   "cell_type": "code",
   "execution_count": null,
   "metadata": {
    "id": "No3oT5683-Wq"
   },
   "outputs": [],
   "source": [
    "# последовательно применим эти функции с помощью нескольких методов .pipe()\n",
    "people_processed = (\n",
    "    people.pipe(copy_df)  # copy_df() применится ко всему датафрейму\n",
    "    .pipe(map_column, \"gender\", \"female\", \"male\")  # map_column() к столбцу gender\n",
    "    .pipe(to_categorical, \"age_group\", \"age\", 18, \"adult\", \"minor\")\n",
    ")  # to_categorical() к age_group"
   ]
  },
  {
   "cell_type": "code",
   "execution_count": null,
   "metadata": {
    "colab": {
     "base_uri": "https://localhost:8080/",
     "height": 206
    },
    "id": "Tv9ps1PR4vQT",
    "outputId": "f7df61dd-5b4a-41b6-ec80-7930e404ae64"
   },
   "outputs": [],
   "source": [
    "# посмотрим на результат\n",
    "people_processed"
   ]
  },
  {
   "cell_type": "code",
   "execution_count": null,
   "metadata": {
    "colab": {
     "base_uri": "https://localhost:8080/",
     "height": 206
    },
    "id": "lw1GEPxCNtXY",
    "outputId": "9f1ce2b6-ddec-4358-db3d-51ecaa6a1e06"
   },
   "outputs": [],
   "source": [
    "# убедимся, что исходный датафрейм не изменился\n",
    "people"
   ]
  },
  {
   "cell_type": "markdown",
   "metadata": {
    "id": "aUZfnWhmcdbJ"
   },
   "source": [
    "## Соединение датафреймов"
   ]
  },
  {
   "cell_type": "markdown",
   "metadata": {
    "id": "gIigcKqdWbSB"
   },
   "source": [
    "### `pd.concat()`"
   ]
  },
  {
   "cell_type": "code",
   "execution_count": null,
   "metadata": {
    "id": "_7ErpJYUbH7v"
   },
   "outputs": [],
   "source": [
    "# создадим датафреймы с информацией о стоимости канцелярских товаров в двух магазинах\n",
    "s1 = pd.DataFrame(\n",
    "    {\"item\": [\"карандаш\", \"ручка\", \"папка\", \"степлер\"], \"price\": [220, 340, 200, 500]}\n",
    ")\n",
    "\n",
    "s2 = pd.DataFrame(\n",
    "    {\"item\": [\"клей\", \"корректор\", \"скрепка\", \"бумага\"], \"price\": [200, 240, 100, 300]}\n",
    ")"
   ]
  },
  {
   "cell_type": "code",
   "execution_count": null,
   "metadata": {
    "colab": {
     "base_uri": "https://localhost:8080/",
     "height": 175
    },
    "id": "5lJ7OSuQcits",
    "outputId": "9eb2802f-a3b2-476b-da46-b99b21a83436"
   },
   "outputs": [],
   "source": [
    "# посмотрим на результат\n",
    "s1"
   ]
  },
  {
   "cell_type": "code",
   "execution_count": null,
   "metadata": {
    "colab": {
     "base_uri": "https://localhost:8080/",
     "height": 175
    },
    "id": "wFdCt6DBcixl",
    "outputId": "8762bd4f-3270-42ac-b618-84621c0d7b78"
   },
   "outputs": [],
   "source": [
    "s2"
   ]
  },
  {
   "cell_type": "code",
   "execution_count": null,
   "metadata": {
    "colab": {
     "base_uri": "https://localhost:8080/",
     "height": 300
    },
    "id": "P1kOzUZcUORh",
    "outputId": "2816d4d1-1f08-425a-8878-b86609a20c8a"
   },
   "outputs": [],
   "source": [
    "# передадим в функцию pd.concat() список из соединяемых датафреймов,\n",
    "# укажем параметр axis = 0 (значение по умолчанию)\n",
    "pd.concat([s1, s2], axis=0)"
   ]
  },
  {
   "cell_type": "code",
   "execution_count": null,
   "metadata": {
    "colab": {
     "base_uri": "https://localhost:8080/",
     "height": 300
    },
    "id": "eIB2I9Aqc3iU",
    "outputId": "b9887e45-2545-4cd1-e298-af69719d8bff"
   },
   "outputs": [],
   "source": [
    "# обновим индекс через параметр ignore_index = True\n",
    "pd.concat([s1, s2], axis=0, ignore_index=True)"
   ]
  },
  {
   "cell_type": "code",
   "execution_count": null,
   "metadata": {
    "colab": {
     "base_uri": "https://localhost:8080/",
     "height": 331
    },
    "id": "odewuu0Fc9gW",
    "outputId": "ce2bf7de-0736-414f-d37d-a43b62f1f8b2"
   },
   "outputs": [],
   "source": [
    "# создадим многоуровневый (иерархический) индекс\n",
    "# передадим в параметр keys названия групп индекса,\n",
    "# параметр names получим названия уровней индекса\n",
    "by_shop = pd.concat([s1, s2], axis=0, keys=[\"s1\", \"s2\"], names=[\"s\", \"id\"])\n",
    "by_shop"
   ]
  },
  {
   "cell_type": "code",
   "execution_count": null,
   "metadata": {
    "colab": {
     "base_uri": "https://localhost:8080/"
    },
    "id": "6R5Rv7WIdWjy",
    "outputId": "23b837b0-7c83-4523-e8f6-dd35480b68e1"
   },
   "outputs": [],
   "source": [
    "# посмотрим на созданный индекс\n",
    "by_shop.index"
   ]
  },
  {
   "cell_type": "code",
   "execution_count": null,
   "metadata": {
    "colab": {
     "base_uri": "https://localhost:8080/",
     "height": 178
    },
    "id": "hSpJJ8fJdydc",
    "outputId": "40739538-c832-4a37-c89c-c5534ed065fe"
   },
   "outputs": [],
   "source": [
    "# выведем первую запись в первой группе\n",
    "by_shop.loc[(\"s1\", 0)]"
   ]
  },
  {
   "cell_type": "code",
   "execution_count": null,
   "metadata": {
    "colab": {
     "base_uri": "https://localhost:8080/",
     "height": 206
    },
    "id": "l_7PevRQdNhM",
    "outputId": "c97e37d9-2557-4771-fe25-c592ecd079f7"
   },
   "outputs": [],
   "source": [
    "# датафреймы можно расположить рядом друг с другом (axis = 1)\n",
    "# одновременно сразу создадим группы для многоуровневого индекса столбцов\n",
    "pd.concat([s1, s2], axis=1, keys=[\"s1\", \"s2\"])"
   ]
  },
  {
   "cell_type": "code",
   "execution_count": null,
   "metadata": {
    "colab": {
     "base_uri": "https://localhost:8080/",
     "height": 175
    },
    "id": "wwsLFwIrrTuN",
    "outputId": "c31dd679-32fc-440f-e56d-0add4c34c361"
   },
   "outputs": [],
   "source": [
    "# с помощью метода .iloc[] можно выбрать только вторую группу\n",
    "res4 = pd.concat([s1, s2], axis=1, keys=[\"s1\", \"s2\"]).loc[:, \"s2\"]\n",
    "res4"
   ]
  },
  {
   "cell_type": "code",
   "execution_count": null,
   "metadata": {
    "colab": {
     "base_uri": "https://localhost:8080/",
     "height": 175
    },
    "id": "ZeXHb1EHNSsN",
    "outputId": "aae42054-f31c-4a5a-9cf2-ea9499a9b0ef"
   },
   "outputs": [],
   "source": [
    "# полученный результат и в целом любой датафрейм можно транспонировать\n",
    "res5 = pd.concat([s1, s2], axis=1, keys=[\"s1\", \"s2\"]).T\n",
    "res5"
   ]
  },
  {
   "cell_type": "markdown",
   "metadata": {
    "id": "lI6kgCEgWfa9"
   },
   "source": [
    "### `pd.merge()` и `.join()`"
   ]
  },
  {
   "cell_type": "code",
   "execution_count": null,
   "metadata": {
    "id": "vxITuoiEZako"
   },
   "outputs": [],
   "source": [
    "# рассмотрим три несложных датафрейма\n",
    "math_dict = {\n",
    "    \"name\": [\"Андрей\", \"Елена\", \"Антон\", \"Татьяна\"],\n",
    "    \"math_score\": [83, 84, 78, 80],\n",
    "}\n",
    "\n",
    "math_degree_dict = {\"degree\": [\"B\", \"M\", \"B\", \"M\"]}\n",
    "\n",
    "cs_dict = {\n",
    "    \"name\": [\"Андрей\", \"Ольга\", \"Евгений\", \"Татьяна\"],\n",
    "    \"cs_score\": [87, 82, 77, 81],\n",
    "}\n",
    "\n",
    "math = pd.DataFrame(math_dict)\n",
    "cs = pd.DataFrame(cs_dict)\n",
    "math_degree = pd.DataFrame(math_degree_dict)"
   ]
  },
  {
   "cell_type": "code",
   "execution_count": null,
   "metadata": {
    "colab": {
     "base_uri": "https://localhost:8080/",
     "height": 175
    },
    "id": "Q_w3nlUkar7H",
    "outputId": "33cc43db-15a1-4909-c102-cc0f68a9211e"
   },
   "outputs": [],
   "source": [
    "# в первом содержатся оценки студентов ВУЗа по математике\n",
    "math"
   ]
  },
  {
   "cell_type": "code",
   "execution_count": null,
   "metadata": {
    "colab": {
     "base_uri": "https://localhost:8080/",
     "height": 175
    },
    "id": "IpvxJfcgikiY",
    "outputId": "340fee29-85a7-4738-e31a-f4344521b113"
   },
   "outputs": [],
   "source": [
    "# во втором указано, по какой программе (бакалавр или магистер) учатся студенты\n",
    "math_degree"
   ]
  },
  {
   "cell_type": "code",
   "execution_count": null,
   "metadata": {
    "colab": {
     "base_uri": "https://localhost:8080/",
     "height": 175
    },
    "id": "3kx4_H-vatQr",
    "outputId": "ddb50612-9250-482b-eabe-b25f6d0c8771"
   },
   "outputs": [],
   "source": [
    "# в третьем содержатся данные об оценках по информатике\n",
    "# имена некоторых студентов повторяются, других - нет\n",
    "cs"
   ]
  },
  {
   "cell_type": "markdown",
   "metadata": {
    "id": "9a-haEtkgpeA"
   },
   "source": [
    "#### Left join"
   ]
  },
  {
   "cell_type": "code",
   "execution_count": null,
   "metadata": {
    "colab": {
     "base_uri": "https://localhost:8080/",
     "height": 175
    },
    "id": "M_z6blL7go5R",
    "outputId": "b585bd8b-f516-4b1d-dd42-e534e8a29763"
   },
   "outputs": [],
   "source": [
    "pd.merge(\n",
    "    math,\n",
    "    math_degree,  # выполним соединение двух датафреймов\n",
    "    how=\"left\",  # способом left join\n",
    "    left_index=True,\n",
    "    right_index=True,\n",
    ")  # по индексам левого и правого датафрейма"
   ]
  },
  {
   "cell_type": "code",
   "execution_count": null,
   "metadata": {
    "colab": {
     "base_uri": "https://localhost:8080/",
     "height": 175
    },
    "id": "4S2Lbkn8YTI0",
    "outputId": "5e8889df-54c3-4ba1-d476-0297bf8c4e84"
   },
   "outputs": [],
   "source": [
    "# такой же результат можно получить с помощью метода .join()\n",
    "# можно сказать, что .join() \"заточен\" под left join по индексу\n",
    "math.join(math_degree)"
   ]
  },
  {
   "cell_type": "code",
   "execution_count": null,
   "metadata": {
    "colab": {
     "base_uri": "https://localhost:8080/",
     "height": 175
    },
    "id": "aCPzVtRxkw6Z",
    "outputId": "4dbb1f92-7483-4371-cb3d-fdbe52405b13"
   },
   "outputs": [],
   "source": [
    "# выполним left join по столбцу name\n",
    "pd.merge(math, cs, how=\"left\", on=\"name\")"
   ]
  },
  {
   "cell_type": "markdown",
   "metadata": {
    "id": "jOdHaSsWAyqp"
   },
   "source": [
    "#### Left excluding join"
   ]
  },
  {
   "cell_type": "code",
   "execution_count": null,
   "metadata": {
    "colab": {
     "base_uri": "https://localhost:8080/",
     "height": 175
    },
    "id": "mUOMyNQaA20S",
    "outputId": "10449000-a29f-4223-da89-59fabd42ad18"
   },
   "outputs": [],
   "source": [
    "# выполним левое соединение и посмотрим, в каком из датафреймов указана та или иная строка\n",
    "pd.merge(math, cs, how=\"left\", on=\"name\", indicator=True)"
   ]
  },
  {
   "cell_type": "code",
   "execution_count": null,
   "metadata": {
    "colab": {
     "base_uri": "https://localhost:8080/",
     "height": 112
    },
    "id": "85lZ9WjKBLDa",
    "outputId": "bd55ad65-ca3b-4c42-81d6-455bddc6e171"
   },
   "outputs": [],
   "source": [
    "# выберем только записи из левого датафрейма и удалим столбец _merge\n",
    "# все это можно сделать, применив несколько методов подряд\n",
    "pd.merge(math, cs, how=\"left\", on=\"name\", indicator=True).query(\n",
    "    '_merge == \"left_only\"'\n",
    ").drop(columns=\"_merge\")"
   ]
  },
  {
   "cell_type": "markdown",
   "metadata": {
    "id": "BUTzFhbWjFOj"
   },
   "source": [
    "#### Right join"
   ]
  },
  {
   "cell_type": "code",
   "execution_count": null,
   "metadata": {
    "colab": {
     "base_uri": "https://localhost:8080/",
     "height": 175
    },
    "id": "_97ycH6XmUL4",
    "outputId": "fcc8dbf3-02e5-4b70-a649-f9d92c2a82d5"
   },
   "outputs": [],
   "source": [
    "# выполним правое соединение с помощью параметра how = 'right'\n",
    "pd.merge(math, cs, how=\"right\", on=\"name\")"
   ]
  },
  {
   "cell_type": "markdown",
   "metadata": {
    "id": "wQfbp76WA3Mr"
   },
   "source": [
    "#### Right excluding join"
   ]
  },
  {
   "cell_type": "code",
   "execution_count": null,
   "metadata": {
    "colab": {
     "base_uri": "https://localhost:8080/",
     "height": 175
    },
    "id": "AjBkq0uRA6Nf",
    "outputId": "0d907b5d-c3a1-4f23-a0c8-94af7dbd915c"
   },
   "outputs": [],
   "source": [
    "# выполним правое соединение\n",
    "pd.merge(math, cs, how=\"right\", on=\"name\", indicator=True)"
   ]
  },
  {
   "cell_type": "code",
   "execution_count": null,
   "metadata": {
    "colab": {
     "base_uri": "https://localhost:8080/",
     "height": 112
    },
    "id": "BbP3m0laCIY2",
    "outputId": "9903518d-452a-4457-8128-dd81c9b49b2b"
   },
   "outputs": [],
   "source": [
    "# воспользуемся методом .query() и оставим записи, которые есть только в правом датафрейме\n",
    "# после этого удалим столбец _merge\n",
    "pd.merge(math, cs, how=\"right\", on=\"name\", indicator=True).query(\n",
    "    '_merge == \"right_only\"'\n",
    ").drop(columns=\"_merge\")"
   ]
  },
  {
   "cell_type": "markdown",
   "metadata": {
    "id": "zKwl0INgnEqJ"
   },
   "source": [
    "#### Outer join"
   ]
  },
  {
   "cell_type": "code",
   "execution_count": null,
   "metadata": {
    "colab": {
     "base_uri": "https://localhost:8080/",
     "height": 237
    },
    "id": "UyzG06D5WkYx",
    "outputId": "0d67901e-299d-4613-ec91-b554e0b510af"
   },
   "outputs": [],
   "source": [
    "# внешнее соединение сохраняет все строки обоих датафреймов\n",
    "pd.merge(math, cs, how=\"outer\", on=\"name\")"
   ]
  },
  {
   "cell_type": "markdown",
   "metadata": {
    "id": "1SK-zOvjiPti"
   },
   "source": [
    "#### Full Excluding Join"
   ]
  },
  {
   "cell_type": "code",
   "execution_count": null,
   "metadata": {
    "colab": {
     "base_uri": "https://localhost:8080/",
     "height": 237
    },
    "id": "ptxYegzqkKmO",
    "outputId": "0891fd48-c3c8-4db6-9007-c945bdfb4632"
   },
   "outputs": [],
   "source": [
    "# найдем какие записи есть только в левом датафрейме, только в правом и в обоих\n",
    "pd.merge(math, cs, on=\"name\", how=\"outer\", indicator=True)"
   ]
  },
  {
   "cell_type": "code",
   "execution_count": null,
   "metadata": {
    "colab": {
     "base_uri": "https://localhost:8080/",
     "height": 175
    },
    "id": "RSDlnmoSj8ZH",
    "outputId": "ddeb7f7a-4e2e-44f1-b655-550b7a4ad7d5"
   },
   "outputs": [],
   "source": [
    "# оставим только те записи, которых нет в обоих датафреймах\n",
    "pd.merge(math, cs, on=\"name\", how=\"outer\", indicator=True).query(\n",
    "    '_merge != \"both\"'\n",
    ").drop(columns=\"_merge\")"
   ]
  },
  {
   "cell_type": "markdown",
   "metadata": {
    "id": "0Covp5MnnirE"
   },
   "source": [
    "#### Inner join"
   ]
  },
  {
   "cell_type": "code",
   "execution_count": null,
   "metadata": {
    "colab": {
     "base_uri": "https://localhost:8080/",
     "height": 112
    },
    "id": "PqClZkz9nlQF",
    "outputId": "c92b8c56-01e1-4831-c978-f3597467e22e"
   },
   "outputs": [],
   "source": [
    "# для внутреннего соединения используется параметр how = 'inner'\n",
    "pd.merge(math, cs, how=\"inner\", on=\"name\")"
   ]
  },
  {
   "cell_type": "code",
   "execution_count": null,
   "metadata": {
    "colab": {
     "base_uri": "https://localhost:8080/",
     "height": 112
    },
    "id": "rXilzYmv3uA5",
    "outputId": "adb57726-69e3-47b5-8cb8-68ca7930243a"
   },
   "outputs": [],
   "source": [
    "# по умолчанию в pd.merge() стоит именно how = 'inner'\n",
    "pd.merge(math, cs)"
   ]
  },
  {
   "cell_type": "markdown",
   "metadata": {
    "id": "itqEHTlr1xmS"
   },
   "source": [
    "#### Соединение датафреймов и дубликаты"
   ]
  },
  {
   "cell_type": "markdown",
   "metadata": {
    "id": "ihBL5KA9jsm6"
   },
   "source": [
    "Пример 1."
   ]
  },
  {
   "cell_type": "code",
   "execution_count": null,
   "metadata": {
    "id": "zVyP4X36a9uo"
   },
   "outputs": [],
   "source": [
    "# создадим два датафрейма: один с названием товара, другой - с ценой\n",
    "product_data = pd.DataFrame(\n",
    "    [[1, \"холодильник\"], [2, \"телевизор\"]], columns=[\"code\", \"product\"]\n",
    ")\n",
    "price_data = pd.DataFrame([[1, 40000], [1, 60000]], columns=[\"code\", \"price\"])"
   ]
  },
  {
   "cell_type": "code",
   "execution_count": null,
   "metadata": {
    "colab": {
     "base_uri": "https://localhost:8080/",
     "height": 125
    },
    "id": "Omyk08lIbKV_",
    "outputId": "dcff6454-3b7f-455f-aaee-8997e744b8ef"
   },
   "outputs": [],
   "source": [
    "product_data"
   ]
  },
  {
   "cell_type": "code",
   "execution_count": null,
   "metadata": {
    "colab": {
     "base_uri": "https://localhost:8080/",
     "height": 125
    },
    "id": "tw7QPwWAbKcm",
    "outputId": "f7c25bb5-87e5-4012-b9a5-ce7ae13332cf"
   },
   "outputs": [],
   "source": [
    "price_data"
   ]
  },
  {
   "cell_type": "code",
   "execution_count": null,
   "metadata": {
    "colab": {
     "base_uri": "https://localhost:8080/",
     "height": 143
    },
    "id": "9G3heBJ6bFPJ",
    "outputId": "04033227-4d51-4b75-a213-d8ab77abb39c"
   },
   "outputs": [],
   "source": [
    "# левое соединение сохранит все имеющиеся данные\n",
    "pd.merge(product_data, price_data, how=\"left\", on=\"code\")"
   ]
  },
  {
   "cell_type": "code",
   "execution_count": null,
   "metadata": {
    "colab": {
     "base_uri": "https://localhost:8080/",
     "height": 112
    },
    "id": "S9FWZVcMCCd6",
    "outputId": "528e9790-f659-4a64-ba55-86d4123539aa"
   },
   "outputs": [],
   "source": [
    "# при правом соединении часть данных будет потеряна\n",
    "pd.merge(product_data, price_data, how=\"right\", on=\"code\")"
   ]
  },
  {
   "cell_type": "markdown",
   "metadata": {
    "id": "ZiNa9K6hjvJt"
   },
   "source": [
    "Пример 2."
   ]
  },
  {
   "cell_type": "code",
   "execution_count": null,
   "metadata": {
    "id": "iSjaqmQi1v-i"
   },
   "outputs": [],
   "source": [
    "# создадим два датафрейма\n",
    "exams_dict = {\n",
    "    \"professor\": [\"Погорельцев\", \"Преображенский\", \"Архенгельский\", \"Дятлов\", \"Иванов\"],\n",
    "    \"student\": [101, 102, 103, 104, 101],\n",
    "    \"score\": [83, 84, 78, 80, 82],\n",
    "}\n",
    "\n",
    "students_dict = {\n",
    "    \"student_id\": [101, 102, 103, 104],\n",
    "    \"student\": [\"Андрей\", \"Елена\", \"Антон\", \"Татьяна\"],\n",
    "}\n",
    "\n",
    "exams = pd.DataFrame(exams_dict)\n",
    "students = pd.DataFrame(students_dict)"
   ]
  },
  {
   "cell_type": "code",
   "execution_count": null,
   "metadata": {
    "colab": {
     "base_uri": "https://localhost:8080/",
     "height": 206
    },
    "id": "hKdh-KFi2jm8",
    "outputId": "19e8b1e5-971d-43f2-f8cd-bbd439194cb1"
   },
   "outputs": [],
   "source": [
    "# в первом датафрейме содержится информация о результатах экзамена\n",
    "# с фамилией экзаменатора, идентификатором студента и оценкой\n",
    "exams"
   ]
  },
  {
   "cell_type": "code",
   "execution_count": null,
   "metadata": {
    "colab": {
     "base_uri": "https://localhost:8080/",
     "height": 175
    },
    "id": "YQR7ReFp2NXA",
    "outputId": "4759d58d-f376-4a92-e3af-0bff80d89790"
   },
   "outputs": [],
   "source": [
    "# во втором, идентификатор студента и его или ее имя\n",
    "students"
   ]
  },
  {
   "cell_type": "code",
   "execution_count": null,
   "metadata": {
    "colab": {
     "base_uri": "https://localhost:8080/",
     "height": 206
    },
    "id": "GHktjTC02leR",
    "outputId": "bf8a3f77-8aa8-4108-c3c8-e5f17cff5389"
   },
   "outputs": [],
   "source": [
    "# если строка повторяется, данные продублируются\n",
    "# кроме того обратите внимание на суффиксы, их можно изменить через\n",
    "# параметр suffixes = ('_x', '_y')\n",
    "pd.merge(exams, students, left_on=\"student\", right_on=\"student_id\")"
   ]
  },
  {
   "cell_type": "markdown",
   "metadata": {
    "id": "OThM-tVfn6RP"
   },
   "source": [
    "#### Cross join"
   ]
  },
  {
   "cell_type": "code",
   "execution_count": null,
   "metadata": {
    "colab": {
     "base_uri": "https://localhost:8080/",
     "height": 125
    },
    "id": "no2xEL2XotbH",
    "outputId": "453bd59d-c278-4cfe-c4e1-8fe8730c12bd"
   },
   "outputs": [],
   "source": [
    "# создадим датафрейм со столбцом xy и двумя значениями (x и y)\n",
    "df_xy = pd.DataFrame({\"xy\": [\"x\", \"y\"]})\n",
    "df_xy"
   ]
  },
  {
   "cell_type": "code",
   "execution_count": null,
   "metadata": {
    "colab": {
     "base_uri": "https://localhost:8080/",
     "height": 143
    },
    "id": "KQ5nlsMcpPLN",
    "outputId": "9902639a-4e15-477a-8644-889bf6876d81"
   },
   "outputs": [],
   "source": [
    "# создадим еще один датафрейм со столбцом 123 и тремя значениями (1, 2 и 3)\n",
    "df_123 = pd.DataFrame({\"123\": [1, 2, 3]})\n",
    "df_123"
   ]
  },
  {
   "cell_type": "code",
   "execution_count": null,
   "metadata": {
    "colab": {
     "base_uri": "https://localhost:8080/",
     "height": 237
    },
    "id": "-LXh2pqKn8j6",
    "outputId": "ba10a134-9c24-4e51-a36b-e1e0befb7a38"
   },
   "outputs": [],
   "source": [
    "# поставим в соответствие каждому из элементов первого датафрейма\n",
    "# элементы второго\n",
    "pd.merge(df_xy, df_123, how=\"cross\")"
   ]
  },
  {
   "cell_type": "code",
   "execution_count": null,
   "metadata": {
    "colab": {
     "base_uri": "https://localhost:8080/",
     "height": 143
    },
    "id": "VDWyUeF40FCt",
    "outputId": "16800ac9-1bcf-4558-dfc4-edac108f7434"
   },
   "outputs": [],
   "source": [
    "# для сравнения соединим датафреймы с помощью right join\n",
    "pd.merge(df_xy, df_123, how=\"right\", left_index=True, right_index=True)"
   ]
  },
  {
   "cell_type": "markdown",
   "metadata": {
    "id": "T00pv7KDCoK2"
   },
   "source": [
    "#### `pd.merge_asof()`"
   ]
  },
  {
   "cell_type": "code",
   "execution_count": null,
   "metadata": {
    "id": "lg-PSQ1yCs0h"
   },
   "outputs": [],
   "source": [
    "# создадим два датафрейма\n",
    "trades = pd.DataFrame(\n",
    "    {\n",
    "        \"time\": pd.to_datetime(\n",
    "            [\n",
    "                \"20160525 13:30:00.023\",\n",
    "                \"20160525 13:30:00.038\",\n",
    "                \"20160525 13:30:00.048\",\n",
    "                \"20160525 13:30:00.048\",\n",
    "                \"20160525 13:30:00.048\",\n",
    "            ]\n",
    "        ),\n",
    "        \"ticker\": [\"MSFT\", \"MSFT\", \"GOOG\", \"GOOG\", \"AAPL\"],\n",
    "        \"price\": [51.95, 51.95, 720.77, 720.92, 98.00],\n",
    "        \"quantity\": [75, 155, 100, 100, 100],\n",
    "    },\n",
    "    columns=[\"time\", \"ticker\", \"price\", \"quantity\"],\n",
    ")\n",
    "\n",
    "quotes = pd.DataFrame(\n",
    "    {\n",
    "        \"time\": pd.to_datetime(\n",
    "            [\n",
    "                \"20160525 13:30:00.023\",\n",
    "                \"20160525 13:30:00.023\",\n",
    "                \"20160525 13:30:00.030\",\n",
    "                \"20160525 13:30:00.041\",\n",
    "                \"20160525 13:30:00.048\",\n",
    "                \"20160525 13:30:00.049\",\n",
    "                \"20160525 13:30:00.072\",\n",
    "                \"20160525 13:30:00.075\",\n",
    "            ]\n",
    "        ),\n",
    "        \"ticker\": [\"GOOG\", \"MSFT\", \"MSFT\", \"MSFT\", \"GOOG\", \"AAPL\", \"GOOG\", \"MSFT\"],\n",
    "        \"bid\": [720.50, 51.95, 51.97, 51.99, 720.50, 97.99, 720.50, 52.01],\n",
    "        \"ask\": [720.93, 51.96, 51.98, 52.00, 720.93, 98.01, 720.88, 52.03],\n",
    "    },\n",
    "    columns=[\"time\", \"ticker\", \"bid\", \"ask\"],\n",
    ")"
   ]
  },
  {
   "cell_type": "code",
   "execution_count": null,
   "metadata": {
    "colab": {
     "base_uri": "https://localhost:8080/",
     "height": 206
    },
    "id": "8iCw2__3C2sA",
    "outputId": "f80c2f6c-7a0c-4824-bc14-628ed55084f6"
   },
   "outputs": [],
   "source": [
    "# в первом будет содержаться информация о сделках, совершенных с ценными бумагами\n",
    "# (время сделки, тикер эмитента, цена и количество бумаг)\n",
    "trades"
   ]
  },
  {
   "cell_type": "code",
   "execution_count": null,
   "metadata": {
    "colab": {
     "base_uri": "https://localhost:8080/",
     "height": 300
    },
    "id": "PhYFYL93C6P4",
    "outputId": "16108cb1-0fdc-49ba-f442-43887f4caf64"
   },
   "outputs": [],
   "source": [
    "# во втором, котировки ценных бумаг в определенный момент времени\n",
    "quotes"
   ]
  },
  {
   "cell_type": "code",
   "execution_count": null,
   "metadata": {
    "colab": {
     "base_uri": "https://localhost:8080/",
     "height": 206
    },
    "id": "0PFLpSD2vW_Q",
    "outputId": "a9912277-0b55-497f-9701-b65d13d74f73"
   },
   "outputs": [],
   "source": [
    "# выполним левое соединение merge_asof\n",
    "pd.merge_asof(\n",
    "    trades,\n",
    "    quotes,\n",
    "    # по столбцу времени\n",
    "    on=\"time\",\n",
    "    # но так, чтобы совпадало значение столбца ticker\n",
    "    by=\"ticker\",\n",
    "    # совпадение по времени должно составлять менее 10 миллисекунд\n",
    "    tolerance=pd.Timedelta(\"10ms\"),\n",
    ")"
   ]
  },
  {
   "cell_type": "code",
   "execution_count": null,
   "metadata": {
    "colab": {
     "base_uri": "https://localhost:8080/",
     "height": 206
    },
    "id": "A9WLSUQq7M4Q",
    "outputId": "49081adb-653f-49e1-a94c-f8ab668ab5e7"
   },
   "outputs": [],
   "source": [
    "# еще раз выполним соединение merge_asof\n",
    "pd.merge_asof(\n",
    "    trades,\n",
    "    quotes,\n",
    "    on=\"time\",\n",
    "    by=\"ticker\",\n",
    "    # уменьшим интервал до пяти миллисекунд\n",
    "    tolerance=pd.Timedelta(\"10ms\"),\n",
    "    # разрешив искать в предыдущих и будущих периодах\n",
    "    direction=\"nearest\",\n",
    ")"
   ]
  },
  {
   "cell_type": "markdown",
   "metadata": {
    "id": "zvkcNoymsOUS"
   },
   "source": [
    "## Группировка"
   ]
  },
  {
   "cell_type": "markdown",
   "metadata": {
    "id": "B6KHd9mPsaMy"
   },
   "source": [
    "### Метод `.groupby()`"
   ]
  },
  {
   "cell_type": "code",
   "execution_count": null,
   "metadata": {
    "colab": {
     "base_uri": "https://localhost:8080/",
     "height": 206
    },
    "id": "LCl1FvKVsZgx",
    "outputId": "4c216676-6779-4d94-a6ae-db171ca6a744"
   },
   "outputs": [],
   "source": [
    "# подгрузим данные из файла train.csv\n",
    "titanic = pd.read_csv(\"content/train.csv\")\n",
    "\n",
    "# оставим только столбцы PassengerId, Name, Ticket и Cabin\n",
    "titanic.drop(columns=[\"PassengerId\", \"Name\", \"Ticket\", \"Cabin\"], inplace=True)\n",
    "\n",
    "# посмотрим на результат\n",
    "titanic.head()"
   ]
  },
  {
   "cell_type": "code",
   "execution_count": null,
   "metadata": {
    "colab": {
     "base_uri": "https://localhost:8080/"
    },
    "id": "v-GSG3jM3xt9",
    "outputId": "1e45c0aa-8eef-418e-99ed-adb7c8af64aa"
   },
   "outputs": [],
   "source": [
    "# посмотрим на размерность\n",
    "titanic.shape"
   ]
  },
  {
   "cell_type": "code",
   "execution_count": null,
   "metadata": {
    "colab": {
     "base_uri": "https://localhost:8080/"
    },
    "id": "TjJI2Pzh3BBc",
    "outputId": "51ce530d-f67e-4c71-c15d-b6039f8e3916"
   },
   "outputs": [],
   "source": [
    "# метод .groupby() создает объект DataFrameGroupBy\n",
    "# выполним группировку по столбцу Sex\n",
    "titanic.groupby(\"Sex\")"
   ]
  },
  {
   "cell_type": "code",
   "execution_count": null,
   "metadata": {
    "colab": {
     "base_uri": "https://localhost:8080/"
    },
    "id": "EHBhGYAo3Kpv",
    "outputId": "813e4b85-fcd8-4455-e64c-00c0e3c5b160"
   },
   "outputs": [],
   "source": [
    "# посмотрим, сколько было создано групп\n",
    "res3 = titanic.groupby(\"Sex\").ngroups\n",
    "res3"
   ]
  },
  {
   "cell_type": "code",
   "execution_count": null,
   "metadata": {
    "colab": {
     "base_uri": "https://localhost:8080/"
    },
    "id": "TbnEEq_93WK6",
    "outputId": "499253d9-e0d4-4a68-9abc-fb3a7bc86330"
   },
   "outputs": [],
   "source": [
    "# атрибут groups выводит индекс наблюдений, отнесенных к каждой из групп\n",
    "# выберем группу female (по ключу словаря) и\n",
    "# выведем первые пять индексов (через срез списка), относящихся к этой группе\n",
    "res2 = titanic.groupby(\"Sex\").groups[\"female\"][:5]\n",
    "res2"
   ]
  },
  {
   "cell_type": "code",
   "execution_count": null,
   "metadata": {
    "colab": {
     "base_uri": "https://localhost:8080/",
     "height": 178
    },
    "id": "NWySOpdC3lxH",
    "outputId": "c88588d4-0f45-409e-d5ec-c1b618ebe929"
   },
   "outputs": [],
   "source": [
    "# метод .size() выдает количество элементов в каждой группе\n",
    "titanic.groupby(\"Sex\").size()"
   ]
  },
  {
   "cell_type": "code",
   "execution_count": null,
   "metadata": {},
   "outputs": [],
   "source": [
    "titanic[\"Sex\"].value_counts()"
   ]
  },
  {
   "cell_type": "code",
   "execution_count": null,
   "metadata": {
    "colab": {
     "base_uri": "https://localhost:8080/",
     "height": 143
    },
    "id": "G4GIS85Y3v5I",
    "outputId": "4fb5daed-941b-455f-9ace-bab417f48a54"
   },
   "outputs": [],
   "source": [
    "# метод .first() выдает первые встречающиеся наблюдения в каждой из групп\n",
    "# можно использовать .last() для получения последних записей\n",
    "titanic.groupby(\"Sex\").first()"
   ]
  },
  {
   "cell_type": "code",
   "execution_count": null,
   "metadata": {
    "colab": {
     "base_uri": "https://localhost:8080/",
     "height": 206
    },
    "id": "VZz-rdFk4n_o",
    "outputId": "a90d2c09-1495-402d-f346-f0fc706c504b"
   },
   "outputs": [],
   "source": [
    "# метод .get_group() позволяет выбрать наблюдения только одной группы\n",
    "# выберем наблюдения группы male и выведем первые пять строк датафрейма\n",
    "titanic.groupby(\"Sex\").get_group(\"male\").head()"
   ]
  },
  {
   "cell_type": "markdown",
   "metadata": {
    "id": "Nfg0yOIG5gsT"
   },
   "source": [
    "### Агрегирование данных"
   ]
  },
  {
   "cell_type": "markdown",
   "metadata": {
    "id": "kqIsNy2B5nuX"
   },
   "source": [
    "#### Статистика по столбцам"
   ]
  },
  {
   "cell_type": "code",
   "execution_count": null,
   "metadata": {
    "colab": {
     "base_uri": "https://localhost:8080/",
     "height": 178
    },
    "id": "fE2vIDCq4oDw",
    "outputId": "be51f95d-8aae-4afb-899f-778081c880b7"
   },
   "outputs": [],
   "source": [
    "# статистика по одному столбцу\n",
    "# посчитаем медианный возраст мужчин и женщин\n",
    "titanic.groupby(\"Sex\").Age.median().round(1)"
   ]
  },
  {
   "cell_type": "code",
   "execution_count": null,
   "metadata": {
    "colab": {
     "base_uri": "https://localhost:8080/",
     "height": 175
    },
    "id": "9ccJuxZneOYu",
    "outputId": "ea8850d8-a67e-4221-ee8e-1913fe51eb62"
   },
   "outputs": [],
   "source": [
    "# статистика по нескольким столбцам\n",
    "# рассчитаем среднее арифметическое по столбцам Age и Fare для каждого из классов\n",
    "titanic.groupby(\"Pclass\")[[\"Age\", \"Fare\"]].mean().round(1)"
   ]
  },
  {
   "cell_type": "code",
   "execution_count": null,
   "metadata": {
    "colab": {
     "base_uri": "https://localhost:8080/",
     "height": 175
    },
    "id": "waNuo3r7sQry",
    "outputId": "b1b271c7-62c6-4ffb-c256-05d873b9d0a5"
   },
   "outputs": [],
   "source": [
    "# статистика по всем столбцам\n",
    "# среднее арифметическое не получится рассчитать для категориальных признаков,\n",
    "# их придется удалить\n",
    "titanic.drop(columns=[\"Sex\", \"Embarked\"]).groupby(\"Pclass\").mean().round(1)"
   ]
  },
  {
   "cell_type": "code",
   "execution_count": null,
   "metadata": {
    "colab": {
     "base_uri": "https://localhost:8080/",
     "height": 269
    },
    "id": "aUZYpBtkk4Mq",
    "outputId": "0d1830e9-fecd-407a-efbb-fe42503f315d"
   },
   "outputs": [],
   "source": [
    "# выполним группировку по двум признакам (Pclass и Sex)\n",
    "# с расчетом количества наблюдений в каждой подгруппе по каждому столбцу\n",
    "titanic.groupby([\"Pclass\", \"Sex\"]).count()"
   ]
  },
  {
   "cell_type": "code",
   "execution_count": null,
   "metadata": {
    "colab": {
     "base_uri": "https://localhost:8080/"
    },
    "id": "5Lw3YrHIk25n",
    "outputId": "bd74e6d9-e358-4ff0-8405-87130f847fdc"
   },
   "outputs": [],
   "source": [
    "# значение атрибута ngroups Pandas считает по подгруппам\n",
    "res1 = titanic.groupby([\"Pclass\", \"Sex\"]).ngroups\n",
    "res1"
   ]
  },
  {
   "cell_type": "markdown",
   "metadata": {
    "id": "bfiRhHJks0Tk"
   },
   "source": [
    "#### Метод `.agg()`"
   ]
  },
  {
   "cell_type": "code",
   "execution_count": null,
   "metadata": {
    "colab": {
     "base_uri": "https://localhost:8080/",
     "height": 143
    },
    "id": "BbBIlPPc4oIB",
    "outputId": "1ddcbc2f-afbb-45c5-c5f9-441b602becf7"
   },
   "outputs": [],
   "source": [
    "# применим метод .agg() к одному столбцу (Sex) и сразу найдем\n",
    "# максимальное и минимальное значения, количество наблюдений, а также\n",
    "# медиану и среднее арифметическое\n",
    "titanic.groupby(\"Sex\").Age.agg([\"max\", \"min\", \"count\", \"median\", \"mean\"]).round(1)"
   ]
  },
  {
   "cell_type": "code",
   "execution_count": null,
   "metadata": {
    "colab": {
     "base_uri": "https://localhost:8080/",
     "height": 143
    },
    "id": "UBDq2KbxYrXo",
    "outputId": "e8b241b5-1948-4cf5-b204-b719bb72e389"
   },
   "outputs": [],
   "source": [
    "# для удобства при группировке и расчете показателей столбцы можно переименовать\n",
    "titanic.groupby(\"Sex\").Age.agg(sex_max=\"max\", sex_min=\"min\")"
   ]
  },
  {
   "cell_type": "code",
   "execution_count": null,
   "metadata": {
    "colab": {
     "base_uri": "https://localhost:8080/",
     "height": 175
    },
    "id": "qeC4lnvz6qXC",
    "outputId": "a2d2af1a-2b65-4585-baf7-ba9f0fe95312"
   },
   "outputs": [],
   "source": [
    "# применим метода .agg() к нескольким столбцам\n",
    "# рассчитаем среднее арифметическое и медиану для столбцов Age и Fare\n",
    "titanic.groupby(\"Sex\")[[\"Age\", \"Fare\"]].agg([\"mean\", \"median\"]).round(1)"
   ]
  },
  {
   "cell_type": "code",
   "execution_count": null,
   "metadata": {
    "colab": {
     "base_uri": "https://localhost:8080/",
     "height": 175
    },
    "id": "cXyUqb857MQx",
    "outputId": "6e15dd90-3d5d-4ab1-d2bd-9e0042364ab8"
   },
   "outputs": [],
   "source": [
    "# применим метод .agg() ко всем столбцам и рассчитаем среднее арифметическое и медиану\n",
    "# категориальную переменную опять же придется удалить\n",
    "titanic.drop(columns=[\"Embarked\"]).groupby(\"Sex\").agg([\"mean\", \"median\"]).round(1)"
   ]
  },
  {
   "cell_type": "code",
   "execution_count": null,
   "metadata": {
    "colab": {
     "base_uri": "https://localhost:8080/",
     "height": 143
    },
    "id": "nVzKDGeoY_T3",
    "outputId": "0675c0b2-3a77-45a6-e045-9345360fbf0f"
   },
   "outputs": [],
   "source": [
    "# объявим функцию, которая выдаст True, если средний возраст меньше 29 лет\n",
    "# и False в остальных случаях\n",
    "\n",
    "\n",
    "def is_below29(xx: pd.Series) -> bool:  # type: ignore[explicit-any]\n",
    "    \"\"\"Docs.\"\"\"\n",
    "    mm = xx.mean()\n",
    "    return mm < 29\n",
    "\n",
    "\n",
    "# применим эту функцию к группам female и male через метод .agg()\n",
    "titanic.groupby(\"Sex\").Age.agg([\"max\", \"mean\", is_below29])"
   ]
  },
  {
   "cell_type": "markdown",
   "metadata": {
    "id": "AStWQnZq7YYz"
   },
   "source": [
    "### Преобразование данных"
   ]
  },
  {
   "cell_type": "code",
   "execution_count": null,
   "metadata": {
    "id": "HUSlLqoz7cWT"
   },
   "outputs": [],
   "source": [
    "# объявим lambda-функцию, которая выполняет стандартизацию данных\n",
    "# pylint: disable=unnecessary-lambda-assignment\n",
    "standardize = lambda xx: (xx - xx.mean()) / xx.std()  # noqa: E731"
   ]
  },
  {
   "cell_type": "markdown",
   "metadata": {
    "id": "3FkspJBDnTGN"
   },
   "source": [
    "Метод `.apply()`"
   ]
  },
  {
   "cell_type": "code",
   "execution_count": null,
   "metadata": {
    "colab": {
     "base_uri": "https://localhost:8080/",
     "height": 490
    },
    "id": "k0wPek-_dcGT",
    "outputId": "73bb88d3-3ea8-436c-a061-a047a04389cc"
   },
   "outputs": [],
   "source": [
    "# сгруппируем данные о возрасте по полу пассажиров и применим функцию стандартизации\n",
    "titanic.groupby(\"Sex\").Age.apply(standardize)"
   ]
  },
  {
   "cell_type": "code",
   "execution_count": null,
   "metadata": {
    "colab": {
     "base_uri": "https://localhost:8080/",
     "height": 175
    },
    "id": "KNv-x-R3pVsg",
    "outputId": "efe9d334-8408-4cc9-b3ad-c6457a55cf12"
   },
   "outputs": [],
   "source": [
    "# сгруппируем данные по Pclass и найдем среднее в столбцах Age и Fare\n",
    "# метод .apply() выдаст уже агрегированные данные\n",
    "# для применения функции к столбцам укажем axis = 0\n",
    "titanic.groupby(\"Pclass\")[[\"Age\", \"Fare\"]].apply(np.mean, axis=0).round(1)"
   ]
  },
  {
   "cell_type": "code",
   "execution_count": null,
   "metadata": {
    "colab": {
     "base_uri": "https://localhost:8080/",
     "height": 175
    },
    "id": "6kuhDUa_XN4e",
    "outputId": "9582d2e9-d0a3-4363-8847-e64ee06c4b5d"
   },
   "outputs": [],
   "source": [
    "titanic.groupby(\"Pclass\")[[\"Age\", \"Fare\"]].apply(np.mean, axis=\"index\").round(1)"
   ]
  },
  {
   "cell_type": "markdown",
   "metadata": {
    "id": "gNtMvbXe7dcv"
   },
   "source": [
    "### Фильтрация"
   ]
  },
  {
   "cell_type": "code",
   "execution_count": null,
   "metadata": {
    "colab": {
     "base_uri": "https://localhost:8080/",
     "height": 175
    },
    "id": "0WKXlyPb7rnC",
    "outputId": "c2d3b0b8-c75e-4819-bef5-f8ee948b4709"
   },
   "outputs": [],
   "source": [
    "# найдем среднее арифметическое возраста внутри каждого из классов каюты\n",
    "titanic.groupby(\"Pclass\")[[\"Age\"]].mean()"
   ]
  },
  {
   "cell_type": "code",
   "execution_count": null,
   "metadata": {
    "colab": {
     "base_uri": "https://localhost:8080/",
     "height": 206
    },
    "id": "sNZVuW7-dwtZ",
    "outputId": "882c705d-6da6-4742-9b02-8b336522d6da"
   },
   "outputs": [],
   "source": [
    "# выберем только те классы кают, в которых среднегрупповой возраст не менее 26 лет\n",
    "# для этого применим метод .filter с lambda-функцией\n",
    "titanic.groupby(\"Pclass\").filter(lambda xx: xx[\"Age\"].mean() >= 26).head()"
   ]
  },
  {
   "cell_type": "code",
   "execution_count": null,
   "metadata": {
    "colab": {
     "base_uri": "https://localhost:8080/"
    },
    "id": "ZGuFJQyXHDfa",
    "outputId": "4f526d84-8931-4123-a7bc-46e8bed9c9e8"
   },
   "outputs": [],
   "source": [
    "# убедимся, что у нас осталось только два класса\n",
    "# для этого из предыдущего результата возьмем столбец Pclass и применим метод .unique()\n",
    "titanic.groupby(\"Pclass\").filter(lambda xx: xx[\"Age\"].mean() >= 26).Pclass.unique()"
   ]
  },
  {
   "cell_type": "markdown",
   "metadata": {
    "id": "x3SgfTQ8trnL"
   },
   "source": [
    "### Сводные таблицы"
   ]
  },
  {
   "cell_type": "code",
   "execution_count": null,
   "metadata": {
    "colab": {
     "base_uri": "https://localhost:8080/",
     "height": 206
    },
    "id": "FfUfZQ6NtvPo",
    "outputId": "0178992a-f435-4db3-a5a7-702d0b478f78"
   },
   "outputs": [],
   "source": [
    "# импортируем данные\n",
    "cars = pd.read_csv(\"content/cars.csv\")\n",
    "\n",
    "# удалим столбцы, которые нам не понадобятся\n",
    "cars.drop(columns=[\"Unnamed: 0\", \"vin\", \"lot\", \"condition\"], inplace=True)\n",
    "\n",
    "# и посмотрим на результат\n",
    "cars.head()"
   ]
  },
  {
   "cell_type": "markdown",
   "metadata": {
    "id": "NRReiBQxmoTI"
   },
   "source": [
    "#### Группировка по строкам"
   ]
  },
  {
   "cell_type": "code",
   "execution_count": null,
   "metadata": {
    "colab": {
     "base_uri": "https://localhost:8080/",
     "height": 394
    },
    "id": "J_83wAxXaVcm",
    "outputId": "61bbf25d-1a91-481e-d2bb-49a282d28a7f"
   },
   "outputs": [],
   "source": [
    "# для создания сводной таблицы необходимо указать данные\n",
    "pd.pivot_table(\n",
    "    cars,\n",
    "    # по какому признаку проводить группировку\n",
    "    index=\"brand\",\n",
    "    # и для каких признаков рассчитывать показатели\n",
    "    values=[\"mileage\", \"price\", \"year\"],\n",
    ").round(2).head(10)\n",
    "\n",
    "# по умолчанию будет рассчитано среднее арифметическое внутри каждой из групп"
   ]
  },
  {
   "cell_type": "code",
   "execution_count": null,
   "metadata": {
    "colab": {
     "base_uri": "https://localhost:8080/",
     "height": 394
    },
    "id": "GQVKOMF1_fxf",
    "outputId": "8b7c4b4e-6abf-4081-9c60-7c539c900cf3"
   },
   "outputs": [],
   "source": [
    "# добавим параметры values - по каким столбцам считать статистику группы\n",
    "# и пропишем aggfunc - какая именно статистика нас интересует\n",
    "pd.pivot_table(\n",
    "    cars,\n",
    "    # сгруппируем по марке\n",
    "    index=\"brand\",\n",
    "    # считать статистику будем по цене и пробегу\n",
    "    values=[\"price\", \"mileage\"],\n",
    "    # для каждой группы найдем медиану и выведем первые 10 марок\n",
    "    aggfunc=\"median\",\n",
    ").round(2).head(10)"
   ]
  },
  {
   "cell_type": "code",
   "execution_count": null,
   "metadata": {
    "id": "YyDNaCxObn6M"
   },
   "outputs": [],
   "source": [
    "# в качестве примера пропишем функцию, которая возвращает среднее арифметическое\n",
    "\n",
    "\n",
    "def custom_mean(xx: pd.Series) -> float:  # type: ignore[explicit-any]\n",
    "    \"\"\"Docs.\"\"\"\n",
    "    return float(sum(xx) / len(xx))"
   ]
  },
  {
   "cell_type": "code",
   "execution_count": null,
   "metadata": {
    "colab": {
     "base_uri": "https://localhost:8080/",
     "height": 426
    },
    "id": "Mn4dWOyUhreG",
    "outputId": "f9dcc2a7-9e20-489f-c769-32cefb90c8c9"
   },
   "outputs": [],
   "source": [
    "# применим как встроенную, так и собственную функцию к столбцу price\n",
    "pd.pivot_table(\n",
    "    cars, index=\"brand\", values=\"price\", aggfunc=[\"mean\", custom_mean]\n",
    ").round(2).head(10)"
   ]
  },
  {
   "cell_type": "code",
   "execution_count": null,
   "metadata": {
    "colab": {
     "base_uri": "https://localhost:8080/",
     "height": 457
    },
    "id": "hRKGFjFKcDXF",
    "outputId": "410f3209-03f0-4714-bea0-7bbe15f8b133"
   },
   "outputs": [],
   "source": [
    "# сгруппируем данные по марке, а затем по цвету кузова\n",
    "# для каждой подгруппы рассчитаем медиану и количество наблюдений (count)\n",
    "pd.pivot_table(\n",
    "    cars, index=[\"brand\", \"color\"], values=\"price\", aggfunc=[\"median\", \"count\"]\n",
    ").round(2).head(11)"
   ]
  },
  {
   "cell_type": "markdown",
   "metadata": {
    "id": "KNhXM1aUmx58"
   },
   "source": [
    "#### Группировка по строкам и столбцам"
   ]
  },
  {
   "cell_type": "code",
   "execution_count": null,
   "metadata": {
    "colab": {
     "base_uri": "https://localhost:8080/",
     "height": 237
    },
    "id": "CWTx9Y5MnTH3",
    "outputId": "ce40b730-38df-41a0-a8c2-30b6b8c1f660"
   },
   "outputs": [],
   "source": [
    "# найдем медианную цену для каждой марки с разбивкой по категориям title_status\n",
    "pd.pivot_table(\n",
    "    cars, index=\"brand\", columns=\"title_status\", values=\"price\", aggfunc=\"median\"\n",
    ").round(2).head()"
   ]
  },
  {
   "cell_type": "code",
   "execution_count": null,
   "metadata": {
    "colab": {
     "base_uri": "https://localhost:8080/",
     "height": 206
    },
    "id": "btA0cRC5D7Pi",
    "outputId": "839cdf06-3e46-4e11-9dff-db4b53af7a8f"
   },
   "outputs": [],
   "source": [
    "# добавим метрику count и\n",
    "# применим метод .transpose(), чтобы поменять строки и столбцы местами\n",
    "pd.pivot_table(\n",
    "    cars,\n",
    "    index=\"brand\",\n",
    "    columns=\"title_status\",\n",
    "    values=\"price\",\n",
    "    aggfunc=[\"median\", \"count\"],\n",
    ").round().head().transpose()"
   ]
  },
  {
   "cell_type": "markdown",
   "metadata": {
    "id": "pTG8M285nL0W"
   },
   "source": [
    "#### Дополнительные возможности"
   ]
  },
  {
   "cell_type": "code",
   "execution_count": null,
   "metadata": {
    "colab": {
     "base_uri": "https://localhost:8080/",
     "height": 457
    },
    "id": "TKMooNjf_f90",
    "outputId": "8ecf18cf-3725-4966-f525-8930953dd66c"
   },
   "outputs": [],
   "source": [
    "# метод .style.background_gradient() позволяет добавить цветовую маркировку\n",
    "pd.pivot_table(\n",
    "    cars, index=[\"brand\", \"color\"], values=\"price\", aggfunc=[\"median\", \"count\"]\n",
    ").round(2).head(11).style.background_gradient()"
   ]
  },
  {
   "cell_type": "code",
   "execution_count": null,
   "metadata": {
    "colab": {
     "base_uri": "https://localhost:8080/",
     "height": 426
    },
    "id": "tudK0wypV4q8",
    "outputId": "2caf9095-2d55-4eda-b50c-6574f7cfef81"
   },
   "outputs": [],
   "source": [
    "# для выделения пропущенных значений используется метод .style.highlight_null()\n",
    "# цвет выбирается через параметр color\n",
    "pd.pivot_table(\n",
    "    cars, index=\"brand\", columns=\"title_status\", values=\"price\", aggfunc=\"median\"\n",
    ").round(2).head(11).style.highlight_null(color=\"yellow\")"
   ]
  },
  {
   "cell_type": "code",
   "execution_count": null,
   "metadata": {
    "colab": {
     "base_uri": "https://localhost:8080/",
     "height": 535
    },
    "id": "I2pMP4gKjEOm",
    "outputId": "410ef193-93d5-46cb-d421-c9ec74dd69de"
   },
   "outputs": [],
   "source": [
    "# на основе сводных таблиц можно строить графики\n",
    "# например, можно посмотреть количество автомобилей (aggfunc = 'count')\n",
    "# со статусом clean и salvage (title_status),\n",
    "# сгруппированных по маркам (index)\n",
    "pd.pivot_table(\n",
    "    cars, index=\"brand\", columns=\"title_status\", values=\"price\", aggfunc=\"count\"\n",
    ").round(2).head(3).plot.barh(figsize=(10, 7), title=\"Clean vs. Salvage Counts\");"
   ]
  },
  {
   "cell_type": "code",
   "execution_count": null,
   "metadata": {
    "colab": {
     "base_uri": "https://localhost:8080/",
     "height": 429
    },
    "id": "7RqEeaHHOILt",
    "outputId": "52526047-e500-47b2-8623-4e4502f22ef0"
   },
   "outputs": [],
   "source": [
    "# метод .unstack() как бы убирает второе измерение\n",
    "# по сути, мы также группируем данные по нескольким признакам, но только по строкам\n",
    "pd.pivot_table(\n",
    "    cars, index=\"brand\", columns=\"title_status\", values=\"price\", aggfunc=\"median\"\n",
    ").round(\n",
    "    2\n",
    ").head()  # .unstack()"
   ]
  },
  {
   "cell_type": "code",
   "execution_count": null,
   "metadata": {},
   "outputs": [],
   "source": [
    "pd.pivot_table(\n",
    "    cars, index=\"brand\", columns=\"title_status\", values=\"price\", aggfunc=\"median\"\n",
    ").round(2).head().unstack()"
   ]
  },
  {
   "cell_type": "code",
   "execution_count": null,
   "metadata": {
    "colab": {
     "base_uri": "https://localhost:8080/",
     "height": 206
    },
    "id": "Y23fw3ZAdH5a",
    "outputId": "f71c95f6-59b7-486d-b14c-47e272f647e5"
   },
   "outputs": [],
   "source": [
    "# создадим маску для автомобилей \"БМВ\" и сделаем копию датафрейма\n",
    "bmw = cars[cars[\"brand\"] == \"bmw\"].copy()\n",
    "# установим новый индекс, удалив при этом старый\n",
    "bmw.reset_index(drop=True, inplace=True)\n",
    "# удалим столбец brand, так как у нас осталась только одна марка\n",
    "bmw.drop(columns=\"brand\", inplace=True)\n",
    "# посмотрим на результат\n",
    "bmw.head()"
   ]
  },
  {
   "cell_type": "code",
   "execution_count": null,
   "metadata": {
    "colab": {
     "base_uri": "https://localhost:8080/",
     "height": 488
    },
    "id": "H5n-ZFk1d6Bk",
    "outputId": "df43eb98-4857-41ff-f807-7c768cb9deb4"
   },
   "outputs": [],
   "source": [
    "# сгруппируем данные по штату и году выпуска, передав их в параметр index\n",
    "# и найдем медианну цену\n",
    "pd.pivot_table(bmw, index=[\"state\", \"year\"], values=\"price\", aggfunc=\"median\").round(2)"
   ]
  },
  {
   "cell_type": "code",
   "execution_count": null,
   "metadata": {
    "colab": {
     "base_uri": "https://localhost:8080/",
     "height": 488
    },
    "id": "Oq2v_hdmAj2N",
    "outputId": "dc6540c7-34f7-4c35-8588-d1d8a4c11ed6"
   },
   "outputs": [],
   "source": [
    "# когда группировка выполняется только по строкам,\n",
    "# мы можем получить аналогичный результат с помощью метода .groupby()\n",
    "bmw.groupby(by=[\"state\", \"year\"])[[\"price\"]].agg(\"median\")"
   ]
  },
  {
   "cell_type": "code",
   "execution_count": null,
   "metadata": {
    "colab": {
     "base_uri": "https://localhost:8080/",
     "height": 300
    },
    "id": "h9U9EGWuiO28",
    "outputId": "d02cbb37-e0f1-4553-da2a-1fb54d2a3028"
   },
   "outputs": [],
   "source": [
    "# метод .query() позволяет отфильтровать данные\n",
    "pd.pivot_table(bmw, index=[\"state\", \"year\"], values=\"price\", aggfunc=\"median\").round(\n",
    "    2\n",
    ").query(\"price > 20000\")"
   ]
  },
  {
   "cell_type": "code",
   "execution_count": null,
   "metadata": {
    "colab": {
     "base_uri": "https://localhost:8080/",
     "height": 488
    },
    "id": "ZC7cuQK1sKrO",
    "outputId": "aa7e3dad-e2fb-44a0-c0dd-0869aaaf41a1"
   },
   "outputs": [],
   "source": [
    "# применим метод .style.bar() и создадим встроенную горизонтальную столбчатую диаграмму\n",
    "# цвет в параметр color можно, в частности, передавать в hex-формате\n",
    "pd.pivot_table(bmw, index=[\"state\", \"year\"], values=\"price\", aggfunc=\"median\").round(\n",
    "    2\n",
    ").style.bar(color=\"#d65f5f\")"
   ]
  },
  {
   "cell_type": "code",
   "execution_count": null,
   "metadata": {
    "id": "VIUb2KE2IoKj"
   },
   "outputs": [],
   "source": []
  }
 ],
 "metadata": {
  "colab": {
   "provenance": [],
   "toc_visible": true
  },
  "kernelspec": {
   "display_name": "base",
   "language": "python",
   "name": "python3"
  },
  "language_info": {
   "codemirror_mode": {
    "name": "ipython",
    "version": 3
   },
   "file_extension": ".py",
   "mimetype": "text/x-python",
   "name": "python",
   "nbconvert_exporter": "python",
   "pygments_lexer": "ipython3",
   "version": "3.12.7"
  }
 },
 "nbformat": 4,
 "nbformat_minor": 0
}
